{
 "cells": [
  {
   "cell_type": "code",
   "execution_count": 1,
   "id": "d1916633",
   "metadata": {},
   "outputs": [],
   "source": [
    "# Main libraries\n",
    "from configs import *\n",
    "from data_preprocess import *\n",
    "from data_shuffling_split import *"
   ]
  },
  {
   "cell_type": "code",
   "execution_count": 2,
   "id": "248495e4",
   "metadata": {},
   "outputs": [
    {
     "name": "stdout",
     "output_type": "stream",
     "text": [
      "Number of instances in the file are:  458197\n"
     ]
    },
    {
     "data": {
      "text/html": [
       "<div>\n",
       "<style scoped>\n",
       "    .dataframe tbody tr th:only-of-type {\n",
       "        vertical-align: middle;\n",
       "    }\n",
       "\n",
       "    .dataframe tbody tr th {\n",
       "        vertical-align: top;\n",
       "    }\n",
       "\n",
       "    .dataframe thead th {\n",
       "        text-align: right;\n",
       "    }\n",
       "</style>\n",
       "<table border=\"1\" class=\"dataframe\">\n",
       "  <thead>\n",
       "    <tr style=\"text-align: right;\">\n",
       "      <th></th>\n",
       "      <th>id</th>\n",
       "      <th>dialect</th>\n",
       "      <th>text</th>\n",
       "    </tr>\n",
       "  </thead>\n",
       "  <tbody>\n",
       "    <tr>\n",
       "      <th>0</th>\n",
       "      <td>1175358310087892992</td>\n",
       "      <td>IQ</td>\n",
       "      <td>@Nw8ieJUwaCAAreT لكن بالنهاية .. ينتفض .. يغير .</td>\n",
       "    </tr>\n",
       "    <tr>\n",
       "      <th>1</th>\n",
       "      <td>1175416117793349632</td>\n",
       "      <td>IQ</td>\n",
       "      <td>@7zNqXP0yrODdRjK يعني هذا محسوب على البشر .. ح...</td>\n",
       "    </tr>\n",
       "    <tr>\n",
       "      <th>2</th>\n",
       "      <td>1175450108898565888</td>\n",
       "      <td>IQ</td>\n",
       "      <td>@KanaanRema مبين من كلامه خليجي</td>\n",
       "    </tr>\n",
       "    <tr>\n",
       "      <th>3</th>\n",
       "      <td>1175471073770573824</td>\n",
       "      <td>IQ</td>\n",
       "      <td>@HAIDER76128900 يسلملي مرورك وروحك الحلوه💐</td>\n",
       "    </tr>\n",
       "    <tr>\n",
       "      <th>4</th>\n",
       "      <td>1175496913145217024</td>\n",
       "      <td>IQ</td>\n",
       "      <td>@hmo2406 وين هل الغيبه  اخ محمد 🌸🌺</td>\n",
       "    </tr>\n",
       "  </tbody>\n",
       "</table>\n",
       "</div>"
      ],
      "text/plain": [
       "                    id dialect  \\\n",
       "0  1175358310087892992      IQ   \n",
       "1  1175416117793349632      IQ   \n",
       "2  1175450108898565888      IQ   \n",
       "3  1175471073770573824      IQ   \n",
       "4  1175496913145217024      IQ   \n",
       "\n",
       "                                                text  \n",
       "0   @Nw8ieJUwaCAAreT لكن بالنهاية .. ينتفض .. يغير .  \n",
       "1  @7zNqXP0yrODdRjK يعني هذا محسوب على البشر .. ح...  \n",
       "2                    @KanaanRema مبين من كلامه خليجي  \n",
       "3         @HAIDER76128900 يسلملي مرورك وروحك الحلوه💐  \n",
       "4                 @hmo2406 وين هل الغيبه  اخ محمد 🌸🌺  "
      ]
     },
     "execution_count": 2,
     "metadata": {},
     "output_type": "execute_result"
    }
   ],
   "source": [
    "new_dialect_dataset = read_csv(\"dialect_dataset_with_text.csv\")\n",
    "new_dialect_dataset.head()"
   ]
  },
  {
   "cell_type": "code",
   "execution_count": 3,
   "id": "fb5f69b8",
   "metadata": {},
   "outputs": [
    {
     "name": "stdout",
     "output_type": "stream",
     "text": [
      "Number of instances in the file are:  458197\n",
      "Some samples of text after preprocessed it:\n",
      "['حسابشخصي لكن بالنهايه . . ينتفض . . يغير . ', 'حسابشخصي يعني هذا محسوب علي البشر . . حيونه وحشيه . . وتطلبون من الغرب يحترمكم ويؤمن بدينكم ولاينعتكم بالارهاب . . ', 'حسابشخصي مبين من كلامه خليجي', 'حسابشخصي يسلملي مرورك وروحك الحلوه 💐 ', 'حسابشخصي وين هل الغيبه اخ محمد 🌺 ']\n",
      "==================================================\n",
      "Number of instances in our new file are:  458197\n",
      "==================================================\n",
      "Our Arabic preprocess pipeline is work without any error.\n"
     ]
    }
   ],
   "source": [
    "ids_col=\"id\" \n",
    "text_col=\"text\"\n",
    "dialect_col=\"dialect\"\n",
    "file_name_to_read = \"dialect_dataset_with_text.csv\"\n",
    "file_name_to_save = \"dialect_dataset_preprocessed_without_Lemmatization.csv\"\n",
    "_ = arabic_preprocess_pipline(file_name_to_read, file_name_to_save, ids_col,\n",
    "                              text_col, dialect_col, using_lemma=False)"
   ]
  },
  {
   "cell_type": "code",
   "execution_count": 4,
   "id": "7491a4a3",
   "metadata": {},
   "outputs": [
    {
     "name": "stdout",
     "output_type": "stream",
     "text": [
      "Number of instances in the file are:  458197\n"
     ]
    },
    {
     "data": {
      "text/html": [
       "<div>\n",
       "<style scoped>\n",
       "    .dataframe tbody tr th:only-of-type {\n",
       "        vertical-align: middle;\n",
       "    }\n",
       "\n",
       "    .dataframe tbody tr th {\n",
       "        vertical-align: top;\n",
       "    }\n",
       "\n",
       "    .dataframe thead th {\n",
       "        text-align: right;\n",
       "    }\n",
       "</style>\n",
       "<table border=\"1\" class=\"dataframe\">\n",
       "  <thead>\n",
       "    <tr style=\"text-align: right;\">\n",
       "      <th></th>\n",
       "      <th>id</th>\n",
       "      <th>dialect</th>\n",
       "      <th>text</th>\n",
       "    </tr>\n",
       "  </thead>\n",
       "  <tbody>\n",
       "    <tr>\n",
       "      <th>0</th>\n",
       "      <td>1175358310087892992</td>\n",
       "      <td>IQ</td>\n",
       "      <td>حسابشخصي لكن بالنهايه . . ينتفض . . يغير .</td>\n",
       "    </tr>\n",
       "    <tr>\n",
       "      <th>1</th>\n",
       "      <td>1175416117793349632</td>\n",
       "      <td>IQ</td>\n",
       "      <td>حسابشخصي يعني هذا محسوب علي البشر . . حيونه وح...</td>\n",
       "    </tr>\n",
       "    <tr>\n",
       "      <th>2</th>\n",
       "      <td>1175450108898565888</td>\n",
       "      <td>IQ</td>\n",
       "      <td>حسابشخصي مبين من كلامه خليجي</td>\n",
       "    </tr>\n",
       "    <tr>\n",
       "      <th>3</th>\n",
       "      <td>1175471073770573824</td>\n",
       "      <td>IQ</td>\n",
       "      <td>حسابشخصي يسلملي مرورك وروحك الحلوه 💐</td>\n",
       "    </tr>\n",
       "    <tr>\n",
       "      <th>4</th>\n",
       "      <td>1175496913145217024</td>\n",
       "      <td>IQ</td>\n",
       "      <td>حسابشخصي وين هل الغيبه اخ محمد 🌺</td>\n",
       "    </tr>\n",
       "  </tbody>\n",
       "</table>\n",
       "</div>"
      ],
      "text/plain": [
       "                    id dialect  \\\n",
       "0  1175358310087892992      IQ   \n",
       "1  1175416117793349632      IQ   \n",
       "2  1175450108898565888      IQ   \n",
       "3  1175471073770573824      IQ   \n",
       "4  1175496913145217024      IQ   \n",
       "\n",
       "                                                text  \n",
       "0        حسابشخصي لكن بالنهايه . . ينتفض . . يغير .   \n",
       "1  حسابشخصي يعني هذا محسوب علي البشر . . حيونه وح...  \n",
       "2                       حسابشخصي مبين من كلامه خليجي  \n",
       "3              حسابشخصي يسلملي مرورك وروحك الحلوه 💐   \n",
       "4                  حسابشخصي وين هل الغيبه اخ محمد 🌺   "
      ]
     },
     "execution_count": 4,
     "metadata": {},
     "output_type": "execute_result"
    }
   ],
   "source": [
    "preprocessed_dialect_dataset = read_csv(file_name_to_save)\n",
    "preprocessed_dialect_dataset.head()"
   ]
  },
  {
   "cell_type": "code",
   "execution_count": 5,
   "id": "23646ae7",
   "metadata": {},
   "outputs": [
    {
     "name": "stdout",
     "output_type": "stream",
     "text": [
      "==================================================\n",
      "The columns of orginal data are:  Index(['id', 'dialect', 'text'], dtype='object')\n",
      "==================================================\n",
      "The columns of new created data are:  Index(['id', 'dialect', 'text'], dtype='object')\n",
      "==================================================\n"
     ]
    },
    {
     "data": {
      "text/plain": [
       "True"
      ]
     },
     "execution_count": 5,
     "metadata": {},
     "output_type": "execute_result"
    }
   ],
   "source": [
    "validate_ids_and_dialect(new_dialect_dataset, preprocessed_dialect_dataset)"
   ]
  },
  {
   "cell_type": "markdown",
   "id": "909b54f2",
   "metadata": {},
   "source": [
    "# Shuffle and Split\n",
    "\n",
    "Instead of random shuffle using ordinal **train_test_split**, we use **StratifiedShuffleSplit**, that ensure we have proportions almost identical to the orginal. It help us to make approximate distrbution for samples per class.\n",
    "\n",
    "To do that we pass the most representative attribute of our data, and as we have the dialect column which has 18 different classes, so it will be more representative to distribute sampels per class based on that attribute.\n",
    "\n",
    "**Look at the table below to see how difference between the two method of split**"
   ]
  },
  {
   "cell_type": "code",
   "execution_count": 6,
   "id": "18bbde8a",
   "metadata": {},
   "outputs": [
    {
     "name": "stdout",
     "output_type": "stream",
     "text": [
      "The number of instances in the training data after train_test_split are:  449033\n",
      "The number of instances in the testing data after train_test_split are:   9164\n",
      "The number of instances in the training data after StratifiedShuffleSplit are:  449033\n",
      "The number of instances in the testing data after StratifiedShuffleSplit are:   9164\n"
     ]
    }
   ],
   "source": [
    "train_set, test_set             = general_split_and_shuffle(preprocessed_dialect_dataset,  .02)\n",
    "strat_train_set, strat_test_set = Stratified_split_and_shuffle(preprocessed_dialect_dataset, \"dialect\", .02)"
   ]
  },
  {
   "cell_type": "code",
   "execution_count": 8,
   "id": "4b242732",
   "metadata": {},
   "outputs": [
    {
     "data": {
      "text/html": [
       "<div>\n",
       "<style scoped>\n",
       "    .dataframe tbody tr th:only-of-type {\n",
       "        vertical-align: middle;\n",
       "    }\n",
       "\n",
       "    .dataframe tbody tr th {\n",
       "        vertical-align: top;\n",
       "    }\n",
       "\n",
       "    .dataframe thead th {\n",
       "        text-align: right;\n",
       "    }\n",
       "</style>\n",
       "<table border=\"1\" class=\"dataframe\">\n",
       "  <thead>\n",
       "    <tr style=\"text-align: right;\">\n",
       "      <th></th>\n",
       "      <th>Overall</th>\n",
       "      <th>stratified_test</th>\n",
       "      <th>random_test</th>\n",
       "      <th>stratified_test. %error</th>\n",
       "      <th>random_test. %error</th>\n",
       "    </tr>\n",
       "  </thead>\n",
       "  <tbody>\n",
       "    <tr>\n",
       "      <th>AE</th>\n",
       "      <td>0.057390</td>\n",
       "      <td>0.057399</td>\n",
       "      <td>0.056526</td>\n",
       "      <td>0.014557</td>\n",
       "      <td>-1.506577</td>\n",
       "    </tr>\n",
       "    <tr>\n",
       "      <th>BH</th>\n",
       "      <td>0.057381</td>\n",
       "      <td>0.057399</td>\n",
       "      <td>0.055980</td>\n",
       "      <td>0.029773</td>\n",
       "      <td>-2.442446</td>\n",
       "    </tr>\n",
       "    <tr>\n",
       "      <th>DZ</th>\n",
       "      <td>0.035319</td>\n",
       "      <td>0.035356</td>\n",
       "      <td>0.034046</td>\n",
       "      <td>0.104393</td>\n",
       "      <td>-3.603177</td>\n",
       "    </tr>\n",
       "    <tr>\n",
       "      <th>EG</th>\n",
       "      <td>0.125789</td>\n",
       "      <td>0.125818</td>\n",
       "      <td>0.124509</td>\n",
       "      <td>0.023635</td>\n",
       "      <td>-1.017374</td>\n",
       "    </tr>\n",
       "    <tr>\n",
       "      <th>IQ</th>\n",
       "      <td>0.033822</td>\n",
       "      <td>0.033828</td>\n",
       "      <td>0.037538</td>\n",
       "      <td>0.018704</td>\n",
       "      <td>10.988497</td>\n",
       "    </tr>\n",
       "    <tr>\n",
       "      <th>JO</th>\n",
       "      <td>0.060937</td>\n",
       "      <td>0.060890</td>\n",
       "      <td>0.064382</td>\n",
       "      <td>-0.075866</td>\n",
       "      <td>5.654550</td>\n",
       "    </tr>\n",
       "    <tr>\n",
       "      <th>KW</th>\n",
       "      <td>0.091902</td>\n",
       "      <td>0.091881</td>\n",
       "      <td>0.095373</td>\n",
       "      <td>-0.022028</td>\n",
       "      <td>3.777610</td>\n",
       "    </tr>\n",
       "    <tr>\n",
       "      <th>LB</th>\n",
       "      <td>0.060273</td>\n",
       "      <td>0.060236</td>\n",
       "      <td>0.060781</td>\n",
       "      <td>-0.062211</td>\n",
       "      <td>0.843023</td>\n",
       "    </tr>\n",
       "    <tr>\n",
       "      <th>LY</th>\n",
       "      <td>0.079658</td>\n",
       "      <td>0.079660</td>\n",
       "      <td>0.080314</td>\n",
       "      <td>0.002085</td>\n",
       "      <td>0.824020</td>\n",
       "    </tr>\n",
       "    <tr>\n",
       "      <th>MA</th>\n",
       "      <td>0.025183</td>\n",
       "      <td>0.025207</td>\n",
       "      <td>0.026626</td>\n",
       "      <td>0.094674</td>\n",
       "      <td>5.727707</td>\n",
       "    </tr>\n",
       "    <tr>\n",
       "      <th>OM</th>\n",
       "      <td>0.041720</td>\n",
       "      <td>0.041685</td>\n",
       "      <td>0.039175</td>\n",
       "      <td>-0.084354</td>\n",
       "      <td>-6.100217</td>\n",
       "    </tr>\n",
       "    <tr>\n",
       "      <th>PL</th>\n",
       "      <td>0.095465</td>\n",
       "      <td>0.095482</td>\n",
       "      <td>0.090790</td>\n",
       "      <td>0.017634</td>\n",
       "      <td>-4.897518</td>\n",
       "    </tr>\n",
       "    <tr>\n",
       "      <th>QA</th>\n",
       "      <td>0.067807</td>\n",
       "      <td>0.067765</td>\n",
       "      <td>0.069729</td>\n",
       "      <td>-0.061809</td>\n",
       "      <td>2.834951</td>\n",
       "    </tr>\n",
       "    <tr>\n",
       "      <th>SA</th>\n",
       "      <td>0.058560</td>\n",
       "      <td>0.058599</td>\n",
       "      <td>0.057508</td>\n",
       "      <td>0.066429</td>\n",
       "      <td>-1.797006</td>\n",
       "    </tr>\n",
       "    <tr>\n",
       "      <th>SD</th>\n",
       "      <td>0.031502</td>\n",
       "      <td>0.031536</td>\n",
       "      <td>0.029681</td>\n",
       "      <td>0.110194</td>\n",
       "      <td>-5.778641</td>\n",
       "    </tr>\n",
       "    <tr>\n",
       "      <th>SY</th>\n",
       "      <td>0.035448</td>\n",
       "      <td>0.035465</td>\n",
       "      <td>0.033501</td>\n",
       "      <td>0.048600</td>\n",
       "      <td>-5.492553</td>\n",
       "    </tr>\n",
       "    <tr>\n",
       "      <th>TN</th>\n",
       "      <td>0.020179</td>\n",
       "      <td>0.020188</td>\n",
       "      <td>0.021279</td>\n",
       "      <td>0.042607</td>\n",
       "      <td>5.450315</td>\n",
       "    </tr>\n",
       "    <tr>\n",
       "      <th>YE</th>\n",
       "      <td>0.021665</td>\n",
       "      <td>0.021606</td>\n",
       "      <td>0.022261</td>\n",
       "      <td>-0.272638</td>\n",
       "      <td>2.749403</td>\n",
       "    </tr>\n",
       "  </tbody>\n",
       "</table>\n",
       "</div>"
      ],
      "text/plain": [
       "     Overall  stratified_test  random_test  stratified_test. %error  \\\n",
       "AE  0.057390         0.057399     0.056526                 0.014557   \n",
       "BH  0.057381         0.057399     0.055980                 0.029773   \n",
       "DZ  0.035319         0.035356     0.034046                 0.104393   \n",
       "EG  0.125789         0.125818     0.124509                 0.023635   \n",
       "IQ  0.033822         0.033828     0.037538                 0.018704   \n",
       "JO  0.060937         0.060890     0.064382                -0.075866   \n",
       "KW  0.091902         0.091881     0.095373                -0.022028   \n",
       "LB  0.060273         0.060236     0.060781                -0.062211   \n",
       "LY  0.079658         0.079660     0.080314                 0.002085   \n",
       "MA  0.025183         0.025207     0.026626                 0.094674   \n",
       "OM  0.041720         0.041685     0.039175                -0.084354   \n",
       "PL  0.095465         0.095482     0.090790                 0.017634   \n",
       "QA  0.067807         0.067765     0.069729                -0.061809   \n",
       "SA  0.058560         0.058599     0.057508                 0.066429   \n",
       "SD  0.031502         0.031536     0.029681                 0.110194   \n",
       "SY  0.035448         0.035465     0.033501                 0.048600   \n",
       "TN  0.020179         0.020188     0.021279                 0.042607   \n",
       "YE  0.021665         0.021606     0.022261                -0.272638   \n",
       "\n",
       "    random_test. %error  \n",
       "AE            -1.506577  \n",
       "BH            -2.442446  \n",
       "DZ            -3.603177  \n",
       "EG            -1.017374  \n",
       "IQ            10.988497  \n",
       "JO             5.654550  \n",
       "KW             3.777610  \n",
       "LB             0.843023  \n",
       "LY             0.824020  \n",
       "MA             5.727707  \n",
       "OM            -6.100217  \n",
       "PL            -4.897518  \n",
       "QA             2.834951  \n",
       "SA            -1.797006  \n",
       "SD            -5.778641  \n",
       "SY            -5.492553  \n",
       "TN             5.450315  \n",
       "YE             2.749403  "
      ]
     },
     "execution_count": 8,
     "metadata": {},
     "output_type": "execute_result"
    }
   ],
   "source": [
    "compare_proportions = compare_random_and_stratified_split(preprocessed_dialect_dataset, test_set, strat_test_set)\n",
    "compare_proportions"
   ]
  },
  {
   "cell_type": "code",
   "execution_count": 9,
   "id": "534315d5",
   "metadata": {},
   "outputs": [
    {
     "data": {
      "text/plain": [
       "True"
      ]
     },
     "execution_count": 9,
     "metadata": {},
     "output_type": "execute_result"
    }
   ],
   "source": [
    "strat_train_set_path_to_save = \"strat_train_set.csv\"\n",
    "\n",
    "save_train_test_data(strat_train_set, \"train/\", strat_train_set_path_to_save, data_path=DATA_PATH)"
   ]
  },
  {
   "cell_type": "code",
   "execution_count": 10,
   "id": "d92268fc",
   "metadata": {},
   "outputs": [
    {
     "data": {
      "text/plain": [
       "True"
      ]
     },
     "execution_count": 10,
     "metadata": {},
     "output_type": "execute_result"
    }
   ],
   "source": [
    "strat_test_set_path_to_save  = \"strat_test_set.csv\"\n",
    "\n",
    "save_train_test_data(strat_test_set, \"test/\", strat_test_set_path_to_save, data_path=DATA_PATH)"
   ]
  },
  {
   "cell_type": "code",
   "execution_count": 11,
   "id": "904952c4",
   "metadata": {},
   "outputs": [
    {
     "name": "stdout",
     "output_type": "stream",
     "text": [
      "Number of instances in the file are:  449033\n"
     ]
    },
    {
     "data": {
      "text/html": [
       "<div>\n",
       "<style scoped>\n",
       "    .dataframe tbody tr th:only-of-type {\n",
       "        vertical-align: middle;\n",
       "    }\n",
       "\n",
       "    .dataframe tbody tr th {\n",
       "        vertical-align: top;\n",
       "    }\n",
       "\n",
       "    .dataframe thead th {\n",
       "        text-align: right;\n",
       "    }\n",
       "</style>\n",
       "<table border=\"1\" class=\"dataframe\">\n",
       "  <thead>\n",
       "    <tr style=\"text-align: right;\">\n",
       "      <th></th>\n",
       "      <th>id</th>\n",
       "      <th>dialect</th>\n",
       "      <th>text</th>\n",
       "    </tr>\n",
       "  </thead>\n",
       "  <tbody>\n",
       "    <tr>\n",
       "      <th>0</th>\n",
       "      <td>950950675101470848</td>\n",
       "      <td>JO</td>\n",
       "      <td>دكتورا انا بستني فيك تفعل الاسك مره تاتيه عشان...</td>\n",
       "    </tr>\n",
       "    <tr>\n",
       "      <th>1</th>\n",
       "      <td>469574435930775616</td>\n",
       "      <td>KW</td>\n",
       "      <td>عطيني عيونك الليله و باكر يا عساه صدود امانه ل...</td>\n",
       "    </tr>\n",
       "    <tr>\n",
       "      <th>2</th>\n",
       "      <td>1162633925023490048</td>\n",
       "      <td>SD</td>\n",
       "      <td>#نفير_الملابس يلا عايزين اكبر كميه من الملابس ...</td>\n",
       "    </tr>\n",
       "    <tr>\n",
       "      <th>3</th>\n",
       "      <td>1175486673251131392</td>\n",
       "      <td>YE</td>\n",
       "      <td>حسابشخصي يالله تسلمي اختي جنات</td>\n",
       "    </tr>\n",
       "    <tr>\n",
       "      <th>4</th>\n",
       "      <td>1174045704483942400</td>\n",
       "      <td>JO</td>\n",
       "      <td>حسابشخصي نفسي بمندي مثل هذا</td>\n",
       "    </tr>\n",
       "  </tbody>\n",
       "</table>\n",
       "</div>"
      ],
      "text/plain": [
       "                    id dialect  \\\n",
       "0   950950675101470848      JO   \n",
       "1   469574435930775616      KW   \n",
       "2  1162633925023490048      SD   \n",
       "3  1175486673251131392      YE   \n",
       "4  1174045704483942400      JO   \n",
       "\n",
       "                                                text  \n",
       "0  دكتورا انا بستني فيك تفعل الاسك مره تاتيه عشان...  \n",
       "1  عطيني عيونك الليله و باكر يا عساه صدود امانه ل...  \n",
       "2  #نفير_الملابس يلا عايزين اكبر كميه من الملابس ...  \n",
       "3                     حسابشخصي يالله تسلمي اختي جنات  \n",
       "4                        حسابشخصي نفسي بمندي مثل هذا  "
      ]
     },
     "execution_count": 11,
     "metadata": {},
     "output_type": "execute_result"
    }
   ],
   "source": [
    "strat_train_set = read_csv(\"train/strat_train_set.csv\")\n",
    "strat_train_set.head()"
   ]
  },
  {
   "cell_type": "code",
   "execution_count": 12,
   "id": "6673ecf4",
   "metadata": {},
   "outputs": [
    {
     "name": "stdout",
     "output_type": "stream",
     "text": [
      "Number of instances in the file are:  9164\n"
     ]
    },
    {
     "data": {
      "text/html": [
       "<div>\n",
       "<style scoped>\n",
       "    .dataframe tbody tr th:only-of-type {\n",
       "        vertical-align: middle;\n",
       "    }\n",
       "\n",
       "    .dataframe tbody tr th {\n",
       "        vertical-align: top;\n",
       "    }\n",
       "\n",
       "    .dataframe thead th {\n",
       "        text-align: right;\n",
       "    }\n",
       "</style>\n",
       "<table border=\"1\" class=\"dataframe\">\n",
       "  <thead>\n",
       "    <tr style=\"text-align: right;\">\n",
       "      <th></th>\n",
       "      <th>id</th>\n",
       "      <th>dialect</th>\n",
       "      <th>text</th>\n",
       "    </tr>\n",
       "  </thead>\n",
       "  <tbody>\n",
       "    <tr>\n",
       "      <th>0</th>\n",
       "      <td>962371953607827584</td>\n",
       "      <td>EG</td>\n",
       "      <td>الولا عبد الله جمعه ده الله اكبر عليه، لعيب عا...</td>\n",
       "    </tr>\n",
       "    <tr>\n",
       "      <th>1</th>\n",
       "      <td>1069470691047686016</td>\n",
       "      <td>KW</td>\n",
       "      <td>ولا اقدر اقولك تـم . . .</td>\n",
       "    </tr>\n",
       "    <tr>\n",
       "      <th>2</th>\n",
       "      <td>950852288414875648</td>\n",
       "      <td>EG</td>\n",
       "      <td>بص يا بسومتي بتتحط ازاي ابسومتي 👇 رابطويب</td>\n",
       "    </tr>\n",
       "    <tr>\n",
       "      <th>3</th>\n",
       "      <td>885441099745157120</td>\n",
       "      <td>SY</td>\n",
       "      <td>حسابشخصي شو هالدم الخفيف هيدا</td>\n",
       "    </tr>\n",
       "    <tr>\n",
       "      <th>4</th>\n",
       "      <td>961873125486071808</td>\n",
       "      <td>QA</td>\n",
       "      <td>حسابشخصي خسي خسي ياخي كذب بالمعقول شلون كيلو ف...</td>\n",
       "    </tr>\n",
       "  </tbody>\n",
       "</table>\n",
       "</div>"
      ],
      "text/plain": [
       "                    id dialect  \\\n",
       "0   962371953607827584      EG   \n",
       "1  1069470691047686016      KW   \n",
       "2   950852288414875648      EG   \n",
       "3   885441099745157120      SY   \n",
       "4   961873125486071808      QA   \n",
       "\n",
       "                                                text  \n",
       "0  الولا عبد الله جمعه ده الله اكبر عليه، لعيب عا...  \n",
       "1                          ولا اقدر اقولك تـم . . .   \n",
       "2          بص يا بسومتي بتتحط ازاي ابسومتي 👇 رابطويب  \n",
       "3                      حسابشخصي شو هالدم الخفيف هيدا  \n",
       "4  حسابشخصي خسي خسي ياخي كذب بالمعقول شلون كيلو ف...  "
      ]
     },
     "execution_count": 12,
     "metadata": {},
     "output_type": "execute_result"
    }
   ],
   "source": [
    "strat_test_set = read_csv(\"test/strat_test_set.csv\")\n",
    "strat_test_set.head()"
   ]
  },
  {
   "cell_type": "code",
   "execution_count": null,
   "id": "e9dcab91",
   "metadata": {},
   "outputs": [],
   "source": []
  }
 ],
 "metadata": {
  "kernelspec": {
   "display_name": "Python 3",
   "language": "python",
   "name": "python3"
  },
  "language_info": {
   "codemirror_mode": {
    "name": "ipython",
    "version": 3
   },
   "file_extension": ".py",
   "mimetype": "text/x-python",
   "name": "python",
   "nbconvert_exporter": "python",
   "pygments_lexer": "ipython3",
   "version": "3.6.9"
  }
 },
 "nbformat": 4,
 "nbformat_minor": 5
}
