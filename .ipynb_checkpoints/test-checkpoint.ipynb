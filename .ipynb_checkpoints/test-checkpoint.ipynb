{
 "cells": [
  {
   "cell_type": "code",
   "execution_count": null,
   "id": "2859ba0b",
   "metadata": {},
   "outputs": [],
   "source": [
    "# Main libraries\n",
    "import pandas as pd\n",
    "import numpy as np\n",
    "import matplotlib.pyplot as plt\n",
    "from configs import *\n",
    "from fetch_data import *"
   ]
  },
  {
   "cell_type": "code",
   "execution_count": null,
   "id": "a64a775c",
   "metadata": {},
   "outputs": [],
   "source": [
    "dialect_dataset = read_csv(\"dialect_dataset.csv\")\n",
    "\n",
    "# Display first 5 rows from the file\n",
    "dialect_dataset.head()"
   ]
  },
  {
   "cell_type": "code",
   "execution_count": null,
   "id": "e0178711",
   "metadata": {},
   "outputs": [],
   "source": [
    "file_name_to_read = \"dialect_dataset.csv\"\n",
    "file_name_to_save = \"dialect_dataset_with_text.csv\"\n",
    "col_to_convert = \"id\"\n",
    "dialect_col    = \"dialect\"\n",
    "_ = fetching_pipeline(file_name_to_read, file_name_to_save, col_to_convert, dialect_col)"
   ]
  },
  {
   "cell_type": "code",
   "execution_count": null,
   "id": "afae2678",
   "metadata": {},
   "outputs": [],
   "source": []
  }
 ],
 "metadata": {
  "kernelspec": {
   "display_name": "Python 3",
   "language": "python",
   "name": "python3"
  },
  "language_info": {
   "codemirror_mode": {
    "name": "ipython",
    "version": 3
   },
   "file_extension": ".py",
   "mimetype": "text/x-python",
   "name": "python",
   "nbconvert_exporter": "python",
   "pygments_lexer": "ipython3",
   "version": "3.6.9"
  }
 },
 "nbformat": 4,
 "nbformat_minor": 5
}
