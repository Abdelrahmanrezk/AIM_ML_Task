{
 "cells": [
  {
   "cell_type": "code",
   "execution_count": 1,
   "id": "b7ce1444",
   "metadata": {},
   "outputs": [],
   "source": [
    "import matplotlib.pyplot as plt\n",
    "from collections import Counter\n",
    "from configs import *\n",
    "from fetch_data import *\n",
    "from features_extraction import *\n",
    "from data_shuffling_split import *\n",
    "from data_preprocess import *\n",
    "from modeling import *"
   ]
  },
  {
   "cell_type": "code",
   "execution_count": 2,
   "id": "52b125bf",
   "metadata": {},
   "outputs": [
    {
     "name": "stdout",
     "output_type": "stream",
     "text": [
      "Number of instances in the file are:  449033\n"
     ]
    },
    {
     "data": {
      "text/html": [
       "<div>\n",
       "<style scoped>\n",
       "    .dataframe tbody tr th:only-of-type {\n",
       "        vertical-align: middle;\n",
       "    }\n",
       "\n",
       "    .dataframe tbody tr th {\n",
       "        vertical-align: top;\n",
       "    }\n",
       "\n",
       "    .dataframe thead th {\n",
       "        text-align: right;\n",
       "    }\n",
       "</style>\n",
       "<table border=\"1\" class=\"dataframe\">\n",
       "  <thead>\n",
       "    <tr style=\"text-align: right;\">\n",
       "      <th></th>\n",
       "      <th>id</th>\n",
       "      <th>dialect</th>\n",
       "      <th>dialect_l_encoded</th>\n",
       "      <th>text</th>\n",
       "    </tr>\n",
       "  </thead>\n",
       "  <tbody>\n",
       "    <tr>\n",
       "      <th>0</th>\n",
       "      <td>1056552188082716800</td>\n",
       "      <td>LY</td>\n",
       "      <td>8</td>\n",
       "      <td>توا دوشه الكلاسيكو شن بيتمها وشن بيسكتهم وشن ب...</td>\n",
       "    </tr>\n",
       "    <tr>\n",
       "      <th>1</th>\n",
       "      <td>891734969202114560</td>\n",
       "      <td>SY</td>\n",
       "      <td>15</td>\n",
       "      <td>حسابشخصي في احلي من الشحاطه 😂</td>\n",
       "    </tr>\n",
       "    <tr>\n",
       "      <th>2</th>\n",
       "      <td>1110565179257954432</td>\n",
       "      <td>SD</td>\n",
       "      <td>14</td>\n",
       "      <td>حسابشخصي موهبه والله 😂 اوع تحاول تطورها تقوم م...</td>\n",
       "    </tr>\n",
       "    <tr>\n",
       "      <th>3</th>\n",
       "      <td>1172817955270340608</td>\n",
       "      <td>LB</td>\n",
       "      <td>7</td>\n",
       "      <td>حسابشخصي حسابشخصي 😂 انا صرلي عشر سنين مش مجدده...</td>\n",
       "    </tr>\n",
       "    <tr>\n",
       "      <th>4</th>\n",
       "      <td>293253217821790208</td>\n",
       "      <td>QA</td>\n",
       "      <td>12</td>\n",
       "      <td>احلي شعور تكون باجازه وتقوم من الصبح وتمر ع ال...</td>\n",
       "    </tr>\n",
       "  </tbody>\n",
       "</table>\n",
       "</div>"
      ],
      "text/plain": [
       "                    id dialect  dialect_l_encoded  \\\n",
       "0  1056552188082716800      LY                  8   \n",
       "1   891734969202114560      SY                 15   \n",
       "2  1110565179257954432      SD                 14   \n",
       "3  1172817955270340608      LB                  7   \n",
       "4   293253217821790208      QA                 12   \n",
       "\n",
       "                                                text  \n",
       "0  توا دوشه الكلاسيكو شن بيتمها وشن بيسكتهم وشن ب...  \n",
       "1                     حسابشخصي في احلي من الشحاطه 😂   \n",
       "2  حسابشخصي موهبه والله 😂 اوع تحاول تطورها تقوم م...  \n",
       "3  حسابشخصي حسابشخصي 😂 انا صرلي عشر سنين مش مجدده...  \n",
       "4  احلي شعور تكون باجازه وتقوم من الصبح وتمر ع ال...  "
      ]
     },
     "execution_count": 2,
     "metadata": {},
     "output_type": "execute_result"
    }
   ],
   "source": [
    "strat_train_set = read_csv(\"train/strat_train_set.csv\")\n",
    "strat_train_set.head()"
   ]
  },
  {
   "cell_type": "code",
   "execution_count": 3,
   "id": "e69e8d1d",
   "metadata": {},
   "outputs": [
    {
     "name": "stdout",
     "output_type": "stream",
     "text": [
      "Before Tokenization : \n",
      " ['توا دوشه الكلاسيكو شن بيتمها وشن بيسكتهم وشن بي عصبنها هالدواره', 'حسابشخصي في احلي من الشحاطه 😂 ', 'حسابشخصي موهبه والله 😂 اوع تحاول تطورها تقوم ما تصحي']\n",
      "After Tokenization : \n",
      " [['توا', 'دوشه', 'الكلاسيكو', 'شن', 'بيتمها', 'وشن', 'بيسكتهم', 'وشن', 'بي', 'عصبنها', 'هالدواره'], ['حسابشخصي', 'في', 'احلي', 'من', 'الشحاطه', '😂'], ['حسابشخصي', 'موهبه', 'والله', '😂', 'اوع', 'تحاول', 'تطورها', 'تقوم', 'ما', 'تصحي']]\n"
     ]
    }
   ],
   "source": [
    "texts_list = list(strat_train_set['text'])\n",
    "print(\"Before Tokenization : \\n\", texts_list[:3])\n",
    "tokenized_texts = tokenize_using_nltk_TreebankWordTokenizer(texts_list)\n",
    "print(\"After Tokenization : \\n\", tokenized_texts[:3])"
   ]
  },
  {
   "cell_type": "markdown",
   "id": "b7691b57",
   "metadata": {},
   "source": [
    "# Curse of Dimensional & sparsity\n",
    "\n",
    "Tasks like **Computer Vision** or **Natural Language Processing** run to problem called **Curse of Dimensional**, and as we have here NLP classification problem, the number of instance are semi-large, but this not the point, the point is what we dealing with is text language, and the language are free of grammar, ritch of vocabulary and others.\n",
    "\n",
    "So to handle like these problems we need to extract features from the text, the old or classical way is using BOW (Bag of Words), and this approach run to the problem of **Curse of Dimensionality** as we will have number of features related to the unique words in our data. Not just that most of these features are zeros, what is we called sparse matrix.\n",
    "\n",
    "Beside of that, this matrix we will get from that approach represent the text not the word itself, so there is no similarity between words and other problem.\n",
    "\n",
    "# Word2Vec\n",
    "\n",
    "From what we have of these problem we moved to another approach related to the word representation.\n",
    "\n",
    "Word2vec is numerical representation of dense vector for the word semantics of meaning, including the implies meaning of the word. So we can use these word representation in our text as we will see.\n",
    "\n",
    "But to train Word2Vec and got a pretty good result of word representation, it first require massive data millions of text document, and second to wait for a while for your model to train. So we use the idea of transfer learning, and use some of the pre trained Arabic Word2Vec models and download it to use in our task. \n",
    "\n",
    "**Check for more information about the models we used:** [AraVec](https://www.sciencedirect.com/science/article/pii/S1877050917321749)\n",
    "\n"
   ]
  },
  {
   "cell_type": "markdown",
   "id": "6ea372b1",
   "metadata": {},
   "source": [
    "# Build Matrix of Text\n",
    "\n",
    "Any ML or DL model require specific number of features (input) to dealing with, but what we have here with word2vec is word representation. So how it works for text ?\n",
    "\n",
    "We will build a matrix for each text, but we need to limit the number of words in each text, because we can not train the model with different number of words in text.\n",
    "\n",
    "# Note !\n",
    "\n",
    "We can take the maximum number of words in the longest text, but maybe for some documents its has thousand of words, so we use the graph below and other helpful method to get reasonable length."
   ]
  },
  {
   "cell_type": "code",
   "execution_count": 4,
   "id": "f7caff34",
   "metadata": {},
   "outputs": [
    {
     "name": "stdout",
     "output_type": "stream",
     "text": [
      "The max length is:  94\n"
     ]
    },
    {
     "data": {
      "text/plain": [
       "[11, 6, 10, 26, 19, 31, 7, 6, 6, 10]"
      ]
     },
     "execution_count": 4,
     "metadata": {},
     "output_type": "execute_result"
    }
   ],
   "source": [
    "# Get how many words inside each text after tokenization\n",
    "num_of_words_in_each_text = [len(text) for text in tokenized_texts]\n",
    "max_len = max(num_of_words_in_each_text)\n",
    "print(\"The max length is: \", max_len)\n",
    "num_of_words_in_each_text[:10]"
   ]
  },
  {
   "cell_type": "code",
   "execution_count": 5,
   "id": "4bd8f78b",
   "metadata": {},
   "outputs": [
    {
     "name": "stdout",
     "output_type": "stream",
     "text": [
      "The number of keys before removing are:  86\n",
      "==================================================\n",
      "The number of keys after removing some of them are:  50\n",
      "==================================================\n"
     ]
    },
    {
     "data": {
      "image/png": "[encoded data removed]",
      "text/plain": [
       "<Figure size 1332x432 with 1 Axes>"
      ]
     },
     "metadata": {},
     "output_type": "display_data"
    }
   ],
   "source": [
    "# count how many times these value repeated and sort them\n",
    "new_dicts = get_keys_that_val_gr_than_num(num_of_words_in_each_text, 1000)\n",
    "keys = list(new_dicts.keys())\n",
    "values = list(new_dicts.values())\n",
    "plt.style.use('dark_background')\n",
    "fig = plt.gcf()\n",
    "fig.set_size_inches(18.5, 6)\n",
    "plt.bar(range(len(new_dicts)), values, tick_label=keys)\n",
    "plt.show()"
   ]
  },
  {
   "cell_type": "code",
   "execution_count": 6,
   "id": "dcd58ee7",
   "metadata": {},
   "outputs": [],
   "source": [
    "word_to_vec_model = load_word2vec_model(\"models/word2vec/rezk_unigram_CBOW_model/train_word2vec_cbow__window_3_min_count_300\")"
   ]
  },
  {
   "cell_type": "code",
   "execution_count": 7,
   "id": "77cd9b72",
   "metadata": {},
   "outputs": [],
   "source": [
    "texts_check = tokenized_texts[:50000]\n",
    "number_of_features = 300\n",
    "max_len_str = 32"
   ]
  },
  {
   "cell_type": "code",
   "execution_count": 8,
   "id": "7aa2c882",
   "metadata": {},
   "outputs": [
    {
     "name": "stdout",
     "output_type": "stream",
     "text": [
      "The shape of matrix (30000, 9600)\n"
     ]
    }
   ],
   "source": [
    "embedding_matrix = ML_text_to_matrix_using_word2vec(word_to_vec_model, texts_check, number_of_features, max_len_str)"
   ]
  },
  {
   "cell_type": "code",
   "execution_count": 9,
   "id": "7c49ad1f",
   "metadata": {},
   "outputs": [
    {
     "data": {
      "text/plain": [
       "numpy.ndarray"
      ]
     },
     "execution_count": 9,
     "metadata": {},
     "output_type": "execute_result"
    }
   ],
   "source": [
    "type(embedding_matrix)"
   ]
  },
  {
   "cell_type": "code",
   "execution_count": 10,
   "id": "c6ec107d",
   "metadata": {},
   "outputs": [],
   "source": [
    "y_train = np.array(strat_train_set['dialect_l_encoded']).reshape(-1,1)"
   ]
  },
  {
   "cell_type": "code",
   "execution_count": 11,
   "id": "89aaf57a",
   "metadata": {},
   "outputs": [
    {
     "data": {
      "text/plain": [
       "(449033, 1)"
      ]
     },
     "execution_count": 11,
     "metadata": {},
     "output_type": "execute_result"
    }
   ],
   "source": [
    "y_train.shape"
   ]
  },
  {
   "cell_type": "code",
   "execution_count": 12,
   "id": "481a3395",
   "metadata": {},
   "outputs": [
    {
     "name": "stderr",
     "output_type": "stream",
     "text": [
      "/home/abdelrahman/.local/lib/python3.6/site-packages/keras/optimizer_v2/optimizer_v2.py:356: UserWarning: The `lr` argument is deprecated, use `learning_rate` instead.\n",
      "  \"The `lr` argument is deprecated, use `learning_rate` instead.\")\n"
     ]
    },
    {
     "name": "stdout",
     "output_type": "stream",
     "text": [
      "Epoch 1/10\n",
      "844/844 [==============================] - 3s 3ms/step - loss: 2.7772 - accuracy: 0.1228 - val_loss: 2.7738 - val_accuracy: 0.1307\n",
      "Epoch 2/10\n",
      "844/844 [==============================] - 2s 2ms/step - loss: 2.7759 - accuracy: 0.1229 - val_loss: 2.7703 - val_accuracy: 0.1307\n",
      "Epoch 3/10\n",
      "844/844 [==============================] - 2s 2ms/step - loss: 2.7755 - accuracy: 0.1224 - val_loss: 2.7774 - val_accuracy: 0.0937\n",
      "Epoch 4/10\n",
      "844/844 [==============================] - 2s 2ms/step - loss: 2.7764 - accuracy: 0.1221 - val_loss: 2.7685 - val_accuracy: 0.1307\n",
      "Epoch 5/10\n",
      "844/844 [==============================] - 2s 2ms/step - loss: 2.7758 - accuracy: 0.1229 - val_loss: 2.7657 - val_accuracy: 0.1307\n",
      "Epoch 6/10\n",
      "844/844 [==============================] - 2s 2ms/step - loss: 2.7766 - accuracy: 0.1226 - val_loss: 2.7669 - val_accuracy: 0.1307\n",
      "Epoch 7/10\n",
      "844/844 [==============================] - 2s 2ms/step - loss: 2.7765 - accuracy: 0.1216 - val_loss: 2.7656 - val_accuracy: 0.1307\n",
      "Epoch 8/10\n",
      "844/844 [==============================] - 2s 2ms/step - loss: 2.7763 - accuracy: 0.1228 - val_loss: 2.7727 - val_accuracy: 0.1307\n",
      "Epoch 9/10\n",
      "844/844 [==============================] - 2s 3ms/step - loss: 2.7756 - accuracy: 0.1241 - val_loss: 2.7649 - val_accuracy: 0.1307\n",
      "Epoch 10/10\n",
      "844/844 [==============================] - 2s 3ms/step - loss: 2.7760 - accuracy: 0.1222 - val_loss: 2.7692 - val_accuracy: 0.1307\n"
     ]
    },
    {
     "data": {
      "text/plain": [
       "(<keras.callbacks.History at 0x7f7c65c72d68>,\n",
       " <keras.engine.sequential.Sequential at 0x7f7c67314a20>)"
      ]
     },
     "execution_count": 12,
     "metadata": {},
     "output_type": "execute_result"
    }
   ],
   "source": [
    "keras_model(embedding_matrix, y_train, 10, 32, 1)"
   ]
  },
  {
   "cell_type": "code",
   "execution_count": 13,
   "id": "e939bb96",
   "metadata": {},
   "outputs": [],
   "source": [
    "# logreg_model = LogisticRegression(C=2.0, multi_class='ovr', penalty='l2', solver='liblinear')\n",
    "# logreg_model.fit(train_embedding_matrix, target_train)\n",
    "\n",
    "# model_predict_train__test_data(logreg_model, train_embedding_matrix, target_train,\n",
    "#                               test_embedding_matrix, target_test)"
   ]
  },
  {
   "cell_type": "code",
   "execution_count": null,
   "id": "13e1f4df",
   "metadata": {},
   "outputs": [],
   "source": []
  },
  {
   "cell_type": "code",
   "execution_count": null,
   "id": "b9bb0bcb",
   "metadata": {},
   "outputs": [],
   "source": []
  },
  {
   "cell_type": "code",
   "execution_count": null,
   "id": "f3dd695e",
   "metadata": {},
   "outputs": [],
   "source": []
  },
  {
   "cell_type": "code",
   "execution_count": null,
   "id": "8c334324",
   "metadata": {},
   "outputs": [],
   "source": []
  },
  {
   "cell_type": "code",
   "execution_count": 14,
   "id": "14bdf5e9",
   "metadata": {},
   "outputs": [],
   "source": [
    "# model.save('models/first_keras_model.h5')"
   ]
  }
 ],
 "metadata": {
  "kernelspec": {
   "display_name": "Python 3",
   "language": "python",
   "name": "python3"
  },
  "language_info": {
   "codemirror_mode": {
    "name": "ipython",
    "version": 3
   },
   "file_extension": ".py",
   "mimetype": "text/x-python",
   "name": "python",
   "nbconvert_exporter": "python",
   "pygments_lexer": "ipython3",
   "version": "3.6.9"
  }
 },
 "nbformat": 4,
 "nbformat_minor": 5
}
