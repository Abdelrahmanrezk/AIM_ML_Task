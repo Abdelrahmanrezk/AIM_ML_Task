{
 "cells": [
  {
   "cell_type": "code",
   "execution_count": 1,
   "id": "b7ce1444",
   "metadata": {},
   "outputs": [],
   "source": [
    "import matplotlib.pyplot as plt\n",
    "from collections import Counter\n",
    "from sklearn.svm import SVC\n",
    "from sklearn.ensemble import ExtraTreesClassifier\n",
    "from sklearn.linear_model import SGDClassifier, LogisticRegression\n",
    "from configs import *\n",
    "from fetch_data import *\n",
    "from features_extraction import *\n",
    "from data_shuffling_split import *\n",
    "from data_preprocess import *\n",
    "from ml_modeling import *"
   ]
  },
  {
   "cell_type": "code",
   "execution_count": 2,
   "id": "52b125bf",
   "metadata": {},
   "outputs": [
    {
     "name": "stdout",
     "output_type": "stream",
     "text": [
      "Number of instances in the file are:  449033\n"
     ]
    },
    {
     "data": {
      "text/html": [
       "<div>\n",
       "<style scoped>\n",
       "    .dataframe tbody tr th:only-of-type {\n",
       "        vertical-align: middle;\n",
       "    }\n",
       "\n",
       "    .dataframe tbody tr th {\n",
       "        vertical-align: top;\n",
       "    }\n",
       "\n",
       "    .dataframe thead th {\n",
       "        text-align: right;\n",
       "    }\n",
       "</style>\n",
       "<table border=\"1\" class=\"dataframe\">\n",
       "  <thead>\n",
       "    <tr style=\"text-align: right;\">\n",
       "      <th></th>\n",
       "      <th>id</th>\n",
       "      <th>dialect</th>\n",
       "      <th>dialect_l_encoded</th>\n",
       "      <th>text</th>\n",
       "    </tr>\n",
       "  </thead>\n",
       "  <tbody>\n",
       "    <tr>\n",
       "      <th>0</th>\n",
       "      <td>1056552188082716800</td>\n",
       "      <td>LY</td>\n",
       "      <td>8</td>\n",
       "      <td>توا دوشه الكلاسيكو شن بيتمها وشن بيسكتهم وشن ب...</td>\n",
       "    </tr>\n",
       "    <tr>\n",
       "      <th>1</th>\n",
       "      <td>891734969202114560</td>\n",
       "      <td>SY</td>\n",
       "      <td>15</td>\n",
       "      <td>حسابشخصي في احلي من الشحاطه 😂</td>\n",
       "    </tr>\n",
       "    <tr>\n",
       "      <th>2</th>\n",
       "      <td>1110565179257954432</td>\n",
       "      <td>SD</td>\n",
       "      <td>14</td>\n",
       "      <td>حسابشخصي موهبه والله 😂 اوع تحاول تطورها تقوم م...</td>\n",
       "    </tr>\n",
       "    <tr>\n",
       "      <th>3</th>\n",
       "      <td>1172817955270340608</td>\n",
       "      <td>LB</td>\n",
       "      <td>7</td>\n",
       "      <td>حسابشخصي حسابشخصي 😂 انا صرلي عشر سنين مش مجدده...</td>\n",
       "    </tr>\n",
       "    <tr>\n",
       "      <th>4</th>\n",
       "      <td>293253217821790208</td>\n",
       "      <td>QA</td>\n",
       "      <td>12</td>\n",
       "      <td>احلي شعور تكون باجازه وتقوم من الصبح وتمر ع ال...</td>\n",
       "    </tr>\n",
       "  </tbody>\n",
       "</table>\n",
       "</div>"
      ],
      "text/plain": [
       "                    id dialect  dialect_l_encoded  \\\n",
       "0  1056552188082716800      LY                  8   \n",
       "1   891734969202114560      SY                 15   \n",
       "2  1110565179257954432      SD                 14   \n",
       "3  1172817955270340608      LB                  7   \n",
       "4   293253217821790208      QA                 12   \n",
       "\n",
       "                                                text  \n",
       "0  توا دوشه الكلاسيكو شن بيتمها وشن بيسكتهم وشن ب...  \n",
       "1                     حسابشخصي في احلي من الشحاطه 😂   \n",
       "2  حسابشخصي موهبه والله 😂 اوع تحاول تطورها تقوم م...  \n",
       "3  حسابشخصي حسابشخصي 😂 انا صرلي عشر سنين مش مجدده...  \n",
       "4  احلي شعور تكون باجازه وتقوم من الصبح وتمر ع ال...  "
      ]
     },
     "execution_count": 2,
     "metadata": {},
     "output_type": "execute_result"
    }
   ],
   "source": [
    "strat_train_set = read_csv(\"train/strat_train_set.csv\")\n",
    "strat_train_set.head()"
   ]
  },
  {
   "cell_type": "code",
   "execution_count": 3,
   "id": "8adb7157",
   "metadata": {},
   "outputs": [
    {
     "name": "stdout",
     "output_type": "stream",
     "text": [
      "The number of instances in the training data after StratifiedShuffleSplit are:  980\n",
      "The number of instances in the testing data after StratifiedShuffleSplit are:   20\n",
      "The number of trainin instances:  980\n",
      "The number of validation instances:  20\n",
      "The number of trainin labels :  980\n",
      "The number of validation labels :  20\n"
     ]
    }
   ],
   "source": [
    "x_train_text, x_val_text, y_train, y_val = prepare_data(strat_train_set)"
   ]
  },
  {
   "cell_type": "code",
   "execution_count": 4,
   "id": "3d443a8e",
   "metadata": {},
   "outputs": [
    {
     "name": "stdout",
     "output_type": "stream",
     "text": [
      "Before Tokenization : \n",
      " ['حسابشخصي الله يديم عليج السعاده يارب', 'حسابشخصي حق واجب عزكم عزنا 🇦🇪 الله لايفرقنا 💝 ', 'حسابشخصي اقول اقعد ع دراستكك احسنلك 🤚 ']\n",
      "==================================================\n",
      "After Tokenization : \n",
      " [['حسابشخصي', 'الله', 'يديم', 'عليج', 'السعاده', 'يارب'], ['حسابشخصي', 'حق', 'واجب', 'عزكم', 'عزنا', '🇦🇪', 'الله', 'لايفرقنا', '💝'], ['حسابشخصي', 'اقول', 'اقعد', 'ع', 'دراستكك', 'احسنلك', '🤚']]\n",
      "==================================================\n",
      "Before Tokenization : \n",
      " ['ايه ده , هو الاهلي ماوقعش عقوبه علي متعب فعلا , لا و الله , طيب فين المباديء , طيب فين الاخلاق , طيب اي حاجه مش كده 😂 ', 'حسابشخصي شكل مخك علبه سمنت كنز . . . ', 'حسابشخصي اقوئ اغنيه حب اتحدي العالم']\n",
      "==================================================\n",
      "After Tokenization : \n",
      " [['ايه', 'ده', ',', 'هو', 'الاهلي', 'ماوقعش', 'عقوبه', 'علي', 'متعب', 'فعلا', ',', 'لا', 'و', 'الله', ',', 'طيب', 'فين', 'المباديء', ',', 'طيب', 'فين', 'الاخلاق', ',', 'طيب', 'اي', 'حاجه', 'مش', 'كده', '😂'], ['حسابشخصي', 'شكل', 'مخك', 'علبه', 'سمنت', 'كنز', '.', '.', '.'], ['حسابشخصي', 'اقوئ', 'اغنيه', 'حب', 'اتحدي', 'العالم']]\n"
     ]
    }
   ],
   "source": [
    "x_train_text_tokenized = tokenize_using_nltk_TreebankWordTokenizer(x_train_text)\n",
    "\n",
    "print(\"Before Tokenization : \\n\", x_train_text[:3])\n",
    "print(\"=\"*50)\n",
    "print(\"After Tokenization : \\n\", x_train_text_tokenized[:3])\n",
    "print(\"=\"*50)\n",
    "\n",
    "x_val_text_tokenized = tokenize_using_nltk_TreebankWordTokenizer(x_val_text)\n",
    "\n",
    "print(\"Before Tokenization : \\n\", x_val_text[:3])\n",
    "print(\"=\"*50)\n",
    "print(\"After Tokenization : \\n\", x_val_text_tokenized[:3])"
   ]
  },
  {
   "cell_type": "markdown",
   "id": "6b65ca08",
   "metadata": {},
   "source": [
    "# Curse of Dimensional & sparsity\n",
    "\n",
    "Tasks like **Computer Vision** or **Natural Language Processing** run to problem called **Curse of Dimensional**, and as we have here NLP classification problem, the number of instance are semi-large, but this not the point, the point is what we dealing with is text language, and the language are free of grammar, ritch of vocabulary and others.\n",
    "\n",
    "So to handle like these problems we need to extract features from the text, the old or classical way is using BOW (Bag of Words), and this approach run to the problem of **Curse of Dimensionality** as we will have number of features related to the unique words in our data. Not just that most of these features are zeros, what is we called sparse matrix.\n",
    "\n",
    "Beside of that, this matrix we will get from that approach represent the text not the word itself, so there is no similarity between words and other problem.\n",
    "\n",
    "# Word2Vec\n",
    "\n",
    "From what we have of these problem we moved to another approach related to the word representation.\n",
    "\n",
    "Word2vec is numerical representation of dense vector for the word semantics of meaning, including the implies meaning of the word. So we can use these word representation in our text as we will see.\n",
    "\n",
    "But to train Word2Vec and got a pretty good result of word representation, it first require massive data millions of text document, and second to wait for a while for your model to train. So we use the idea of transfer learning, and use some of the pre trained Arabic Word2Vec models and download it to use in our task. \n",
    "\n",
    "**Check for more information about the models we used:** [AraVec](https://www.sciencedirect.com/science/article/pii/S1877050917321749)\n",
    "\n"
   ]
  },
  {
   "cell_type": "markdown",
   "id": "0d5de1eb",
   "metadata": {},
   "source": [
    "# Build Matrix of Text\n",
    "\n",
    "Any ML or DL model require specific number of features (input) to dealing with, but what we have here with word2vec is word representation. So how it works for text ?\n",
    "\n",
    "We will build a matrix for each text, but we need to limit the number of words in each text, because we can not train the model with different number of words in text.\n",
    "\n",
    "# Note !\n",
    "\n",
    "We can take the maximum number of words in the longest text, but maybe for some documents its has thousand of words, so we use the graph below and other helpful method to get reasonable length."
   ]
  },
  {
   "cell_type": "code",
   "execution_count": 5,
   "id": "a7b574d6",
   "metadata": {},
   "outputs": [
    {
     "name": "stdout",
     "output_type": "stream",
     "text": [
      "The max length is:  71\n"
     ]
    },
    {
     "data": {
      "text/plain": [
       "[6, 9, 7, 16, 21, 12, 23, 9, 8, 40]"
      ]
     },
     "execution_count": 5,
     "metadata": {},
     "output_type": "execute_result"
    }
   ],
   "source": [
    "# Get how many words inside each text after tokenization\n",
    "num_of_words_in_each_text = [len(text) for text in x_train_text_tokenized]\n",
    "max_len = max(num_of_words_in_each_text)\n",
    "print(\"The max length is: \", max_len)\n",
    "num_of_words_in_each_text[:10]"
   ]
  },
  {
   "cell_type": "code",
   "execution_count": 6,
   "id": "3442734c",
   "metadata": {},
   "outputs": [
    {
     "name": "stdout",
     "output_type": "stream",
     "text": [
      "The number of keys before removing are:  52\n",
      "==================================================\n",
      "The number of keys after removing some of them are:  0\n",
      "==================================================\n"
     ]
    },
    {
     "data": {
      "image/png": "[encoded data removed]",
      "text/plain": [
       "<Figure size 1332x432 with 1 Axes>"
      ]
     },
     "metadata": {},
     "output_type": "display_data"
    }
   ],
   "source": [
    "# count how many times these value repeated and sort them\n",
    "new_dicts = get_keys_that_val_gr_than_num(num_of_words_in_each_text, 1000)\n",
    "keys = list(new_dicts.keys())\n",
    "values = list(new_dicts.values())\n",
    "plt.style.use('dark_background')\n",
    "fig = plt.gcf()\n",
    "fig.set_size_inches(18.5, 6)\n",
    "plt.bar(range(len(new_dicts)), values, tick_label=keys)\n",
    "plt.show()"
   ]
  },
  {
   "cell_type": "code",
   "execution_count": 7,
   "id": "65d666b9",
   "metadata": {},
   "outputs": [],
   "source": [
    "word_to_vec_model = load_word2vec_model(\"models/word2vec/mohamed_w2v_CBOW_300_3_400_10/w2v_CBOW_300_3_400_10.model\")"
   ]
  },
  {
   "cell_type": "code",
   "execution_count": 8,
   "id": "9f12845c",
   "metadata": {},
   "outputs": [
    {
     "name": "stdout",
     "output_type": "stream",
     "text": [
      "The shape of matrix (980, 19200)\n",
      "The shape of matrix (20, 19200)\n"
     ]
    }
   ],
   "source": [
    "number_of_features = 300\n",
    "max_len_str = 64\n",
    "X_train_embed_matrix = ML_text_to_matrix_using_word2vec(word_to_vec_model, x_train_text_tokenized, number_of_features, max_len_str)\n",
    "\n",
    "X_val_embed_matrix = ML_text_to_matrix_using_word2vec(word_to_vec_model, x_val_text_tokenized, number_of_features, max_len_str)"
   ]
  },
  {
   "cell_type": "markdown",
   "id": "4b7fc860",
   "metadata": {},
   "source": [
    "# Train Logistic Regression"
   ]
  },
  {
   "cell_type": "code",
   "execution_count": 9,
   "id": "b5b7cca0",
   "metadata": {},
   "outputs": [
    {
     "name": "stdout",
     "output_type": "stream",
     "text": [
      "Fitting 3 folds for each of 6 candidates, totalling 18 fits\n"
     ]
    },
    {
     "name": "stderr",
     "output_type": "stream",
     "text": [
      "[Parallel(n_jobs=-1)]: Using backend LokyBackend with 4 concurrent workers.\n",
      "[Parallel(n_jobs=-1)]: Done  18 out of  18 | elapsed:    8.5s remaining:    0.0s\n",
      "[Parallel(n_jobs=-1)]: Done  18 out of  18 | elapsed:    8.5s finished\n",
      "[Parallel(n_jobs=1)]: Using backend SequentialBackend with 1 concurrent workers.\n",
      "[Parallel(n_jobs=1)]: Done   1 out of   1 | elapsed:    1.6s finished\n"
     ]
    },
    {
     "name": "stdout",
     "output_type": "stream",
     "text": [
      "nan {'C': 0.2, 'penalty': 'l1'}\n",
      "0.11632677310619562 {'C': 0.2, 'penalty': 'l2'}\n",
      "nan {'C': 0.5, 'penalty': 'l1'}\n",
      "0.11632677310619562 {'C': 0.5, 'penalty': 'l2'}\n",
      "nan {'C': 1, 'penalty': 'l1'}\n",
      "0.11632677310619562 {'C': 1, 'penalty': 'l2'}\n",
      "==================================================\n",
      "The best score is:  0.11632677310619562\n",
      "The best paramters for that score is:  {'C': 0.2, 'penalty': 'l2'}\n",
      "===================== Validate Result =====================\n",
      "F1 score is:  0.10000000000000002\n"
     ]
    }
   ],
   "source": [
    "lg_cls_parameters = {'penalty':['l1', 'l2'], 'C': [.2, .5, 1]}\n",
    "lg_cls = LogisticRegression(verbose=1)\n",
    "grid_s_model = grid_search(lg_cls, lg_cls_parameters, X_train_embed_matrix, y_train)\n",
    "_ = grid_search_result(grid_s_model)\n",
    "model = LogisticRegression(penalty=grid_s_model.best_params_['penalty'], C=grid_s_model.best_params_['C'])\n",
    "model_path_to_save = \"models/lg_cls_model.sav\"\n",
    "model = model_fit(model, X_train_embed_matrix, y_train, model_path_to_save)\n",
    "_ = f1_score_display(model, X_val_embed_matrix, y_val)"
   ]
  },
  {
   "cell_type": "markdown",
   "id": "45551027",
   "metadata": {},
   "source": [
    "# ExtraTreesClassifier"
   ]
  },
  {
   "cell_type": "code",
   "execution_count": 11,
   "id": "b93e9d73",
   "metadata": {},
   "outputs": [
    {
     "name": "stdout",
     "output_type": "stream",
     "text": [
      "Fitting 3 folds for each of 2 candidates, totalling 6 fits\n"
     ]
    },
    {
     "name": "stderr",
     "output_type": "stream",
     "text": [
      "[Parallel(n_jobs=-1)]: Using backend LokyBackend with 4 concurrent workers.\n",
      "[Parallel(n_jobs=-1)]: Done   2 out of   6 | elapsed:    6.1s remaining:   12.1s\n",
      "[Parallel(n_jobs=-1)]: Done   6 out of   6 | elapsed:    9.2s finished\n"
     ]
    },
    {
     "name": "stdout",
     "output_type": "stream",
     "text": [
      "0.11632677310619562 {'max_depth': 3}\n",
      "0.11632677310619562 {'max_depth': 5}\n",
      "==================================================\n",
      "The best score is:  0.11632677310619562\n",
      "The best paramters for that score is:  {'max_depth': 3}\n",
      "===================== Validate Result =====================\n",
      "F1 score is:  0.10000000000000002\n"
     ]
    }
   ],
   "source": [
    "ex_tree_cls_parameters = {'max_depth':[3, 5]}\n",
    "ex_tree_cls = ExtraTreesClassifier(n_estimators=30,bootstrap=True, oob_score=True, min_samples_leaf=100)\n",
    "grid_s_model = grid_search(ex_tree_cls, ex_tree_cls_parameters, X_train_embed_matrix, y_train)\n",
    "_ = grid_search_result(grid_s_model)\n",
    "model = ExtraTreesClassifier(max_depth=grid_s_model.best_params_['max_depth'], n_estimators=30,bootstrap=True, oob_score=True, min_samples_leaf=100)\n",
    "model_path_to_save = \"models/ex_tree_model.sav\"\n",
    "model = model_fit(model, X_train_embed_matrix, y_train, model_path_to_save)\n",
    "_ = f1_score_display(model, X_val_embed_matrix, y_val)"
   ]
  },
  {
   "cell_type": "markdown",
   "id": "03d088a7",
   "metadata": {},
   "source": [
    "# Train SVC"
   ]
  },
  {
   "cell_type": "code",
   "execution_count": 10,
   "id": "240589b5",
   "metadata": {},
   "outputs": [],
   "source": [
    "# svc_parameters = {'C':[.5, 1]}\n",
    "# svc_clf = SVC(kernel=\"linear\")\n",
    "# grid_s_model = grid_search(svc_clf, svc_parameters, X_train_embed_matrix, y_train)\n",
    "# _ = grid_search_result(grid_s_model)\n",
    "# model = SVC(kernel=\"linear\", C=grid_s_model.best_params_['C'])\n",
    "# model_path_to_save = \"models/SVC_model.sav\"\n",
    "# model = model_fit(model, X_train_embed_matrix, y_train, model_path_to_save)\n",
    "# _ = f1_score_display(model, X_val_embed_matrix, y_val)"
   ]
  },
  {
   "cell_type": "markdown",
   "id": "acd865d0",
   "metadata": {},
   "source": [
    "# Note !\n",
    "\n",
    "**We can use different word embedding representation, to see its effect on training.**"
   ]
  },
  {
   "cell_type": "code",
   "execution_count": null,
   "id": "ae3d0b62",
   "metadata": {},
   "outputs": [],
   "source": []
  }
 ],
 "metadata": {
  "kernelspec": {
   "display_name": "Python 3",
   "language": "python",
   "name": "python3"
  },
  "language_info": {
   "codemirror_mode": {
    "name": "ipython",
    "version": 3
   },
   "file_extension": ".py",
   "mimetype": "text/x-python",
   "name": "python",
   "nbconvert_exporter": "python",
   "pygments_lexer": "ipython3",
   "version": "3.6.9"
  }
 },
 "nbformat": 4,
 "nbformat_minor": 5
}
