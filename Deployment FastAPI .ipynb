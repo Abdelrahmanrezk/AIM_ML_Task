{
 "cells": [
  {
   "cell_type": "markdown",
   "id": "d95ccee8",
   "metadata": {},
   "source": [
    "# Note !\n",
    "\n",
    "We can map these short description to its corresponding full description, as EG to be Egypt."
   ]
  },
  {
   "cell_type": "code",
   "execution_count": 1,
   "id": "100296d5",
   "metadata": {},
   "outputs": [],
   "source": [
    "# Main libraries \n",
    "from sklearn.preprocessing import LabelEncoder\n",
    "from fastapi.encoders import jsonable_encoder\n",
    "from pydantic import BaseModel\n",
    "from fastapi import FastAPI\n",
    "from enum import Enum\n",
    "import pandas as pd\n",
    "import nest_asyncio\n",
    "import uvicorn\n",
    "import os\n",
    "import io\n",
    "import numpy as np\n",
    "# Our files\n",
    "from data_shuffling_split import *\n",
    "from features_extraction import *\n",
    "from data_preprocess import *\n",
    "from ml_modeling import *\n",
    "from keras_models import *\n",
    "from configs import *"
   ]
  },
  {
   "cell_type": "markdown",
   "id": "a6dbdda2",
   "metadata": {},
   "source": [
    "# Note !\n",
    "\n",
    "Based on what we got from **Compare ML Models**, we end up by decide of using *Abo Bakr Word2vec model*, alongside with AdaBoost Classifier.\n",
    "\n",
    "**We need to map the label as it numbers into corresponding class delicate do we use LabelEncoder as before**"
   ]
  },
  {
   "cell_type": "code",
   "execution_count": 2,
   "id": "51373dac",
   "metadata": {},
   "outputs": [
    {
     "data": {
      "text/plain": [
       "array(['AE', 'BH', 'DZ', 'EG', 'IQ', 'JO', 'KW', 'LB', 'LY', 'MA', 'OM',\n",
       "       'PL', 'QA', 'SA', 'SD', 'SY', 'TN', 'YE'], dtype='<U2')"
      ]
     },
     "execution_count": 2,
     "metadata": {},
     "output_type": "execute_result"
    }
   ],
   "source": [
    "number_of_features = 100\n",
    "max_len_str  = 64\n",
    "word2vec_path = \"bakrianoo_unigram_cbow_model/full_uni_cbow_100_twitter.mdl\"\n",
    "word_to_vec_model = load_word2vec_model(\"models/word2vec/\" + word2vec_path)\n",
    "\n",
    "strat_test_set = pd.read_csv(\"dataset/test/strat_test_set.csv\")\n",
    "l_encoder = LabelEncoder()\n",
    "l_encoder.fit(list(strat_test_set[\"dialect\"]))\n",
    "l_encoder.classes_"
   ]
  },
  {
   "cell_type": "code",
   "execution_count": 3,
   "id": "b3c1c8bc",
   "metadata": {},
   "outputs": [],
   "source": [
    "def classify_text(text, choosed_model, word_to_vec_model=word_to_vec_model, \n",
    "                  max_len_str=max_len_str, l_encoder=l_encoder):\n",
    "    '''\n",
    "    The function used to predict the tweets requested by the API.\n",
    "    \n",
    "    Argumen\n",
    "        text              : string, the text we need to classify.\n",
    "        word_to_vec_model : word2vec object, our word embedding model.\n",
    "        max_len_str       : integer, The maximum number of tokens represent each text.\n",
    "        l_encoder         : object, the encode of each class into some label to retrieve the class from.\n",
    "    Return\n",
    "        classifed_text    : dict, the returned classified text into the api request.\n",
    "    '''\n",
    "    # First process the text requested\n",
    "    text_cleaned = clean_text(text)\n",
    "    # Second tokenize that text to get the representation of each token\n",
    "    tokenized_text = tokenize_using_nltk_TreebankWordTokenizer([text_cleaned])\n",
    "    # Retrieve the whole text representation\n",
    "    text_features = text_to_matrix_using_word2vec(word_to_vec_model, tokenized_text, max_len_str)\n",
    "    \n",
    "    # No prediction yet\n",
    "    predicted = ''\n",
    "    # Prediction with chosen ML Model\n",
    "    if choosed_model == \"Machine Learning Model\":\n",
    "        print(\"=====================Machine Model=====================\")\n",
    "        model_path    = \"bakr/AdaBoostClassifier__f1_0.325_ml.sav\"\n",
    "        cls_model     = pickle_load_model(\"models/ml_models/\" + model_path)\n",
    "        \n",
    "        # it return a list with one index to retrieve it directly\n",
    "        predicted = cls_model.predict(text_features)\n",
    "    elif choosed_model == \"Deep Learning Model\":\n",
    "        print(\"=====================Deep Model=====================\")\n",
    "        model_path    = \"models/dl_models/run_with_bakr_word2vec_Adam_lstm_with_batch_learning_rate=0.1__model.h5\"\n",
    "        text_features = text_features.reshape(text_features.shape[0], max_len_str, number_of_features)\n",
    "        dl_model      = keras_load_model(model_path)\n",
    "        predicted     = dl_model.predict(text_features)\n",
    "        predicted     =np.argmax(predicted,axis=1)\n",
    "        \n",
    "    \n",
    "    pred_result = l_encoder.inverse_transform(predicted)\n",
    "    # Return dictionary with request text and the predicted class\n",
    "    classifed_text = {\n",
    "        'query': text,\n",
    "        'We have predict your dialect text as: ': str(pred_result[0])\n",
    "    }\n",
    "    return classifed_text"
   ]
  },
  {
   "cell_type": "code",
   "execution_count": 4,
   "id": "44536980",
   "metadata": {},
   "outputs": [],
   "source": [
    "# Assign an instance of the FastAPI class to the variable \"app\" to interact with the api.\n",
    "app = FastAPI(title='Deploying a ML & DL Model with FastAPI')\n",
    "\n",
    "# List available models using Enum\n",
    "class Model(str, Enum):\n",
    "    \"\"\"The class to choose from the models we have, Enum represent fixed value that can not change\"\"\"\n",
    "    ML_Model = \"Machine Learning Model\"\n",
    "    DL_Model = \"Deep Learning Model\"\n",
    "\n",
    "\n",
    "class Text(BaseModel):\n",
    "    \"\"\"\n",
    "    The class used to get the text from the user, \n",
    "    \"\"\"\n",
    "    user_attention: str = \"\"\"Put your Arabic text in empty value of key \"query\" below to predict it and choose which model architecture you need.\"\"\"\n",
    "    query         : str = ''\n",
    "        \n",
    "\n",
    "@app.get(\"/\")\n",
    "def home():\n",
    "    # Once you go to this link you will see the get and post method below to trying out\n",
    "    return \"Congratulations! Your API is working as expected. Now head over to http://localhost:8000/docs.\"\n",
    "\n",
    "\n",
    "# This endpoint handles all the logic necessary for the object detection to work.\n",
    "# It requires the desired model and the dictionary of tweet and default class as we give default values to us\n",
    "# In the api you can try other tweet from some_tweets below\n",
    "@app.post(\"/predict\") \n",
    "def prediction(model: Model, text_dict: Text):\n",
    "    \n",
    "    # Encode the retrived request data \n",
    "    text_dict      = jsonable_encoder(text_dict)\n",
    "    # Run our model\n",
    "    try:\n",
    "        classifed_text = classify_text(text_dict['query'], model)\n",
    "    except:\n",
    "        classifed_text = {\n",
    "        'Error': \"Please Provide us with Arabic text in empty value of key 'query' in the Request body, Thanks ^^.\"\n",
    "        }\n",
    "    return classifed_text"
   ]
  },
  {
   "cell_type": "code",
   "execution_count": null,
   "id": "095039d4",
   "metadata": {},
   "outputs": [
    {
     "name": "stderr",
     "output_type": "stream",
     "text": [
      "INFO:     Started server process [24245]\n",
      "INFO:     Waiting for application startup.\n",
      "INFO:     Application startup complete.\n",
      "INFO:     Uvicorn running on http://0.0.0.0:8000 (Press CTRL+C to quit)\n"
     ]
    },
    {
     "name": "stdout",
     "output_type": "stream",
     "text": [
      "INFO:     127.0.0.1:56582 - \"GET /docs HTTP/1.1\" 200 OK\n",
      "INFO:     127.0.0.1:56582 - \"GET /openapi.json HTTP/1.1\" 200 OK\n",
      "INFO:     127.0.0.1:56630 - \"GET /docs HTTP/1.1\" 200 OK\n",
      "INFO:     127.0.0.1:56630 - \"GET /openapi.json HTTP/1.1\" 200 OK\n",
      "==================================================\n",
      "(1, 64, 100)\n",
      "(1, 6400)\n",
      "==================================================\n",
      "[-0.2822  -0.1575   3.271   -5.48    -0.6846   1.536    0.1155   0.1368\n",
      " -2.66    -2.887    0.4595   0.6196  -0.5166   0.4082   0.3364  -1.882\n",
      " -2.713   -2.545    0.4863   0.1699   0.01108  1.388   -2.156    2.8\n",
      " -2.316    1.119   -0.357   -0.5176  -0.3162   0.2896   1.391   -0.1215\n",
      " -0.7866   1.626    2.725   -0.8965   0.9175  -1.507   -1.036   -0.629\n",
      " -0.4058   0.0749   1.287    2.66    -1.376   -1.145    2.055   -0.1971\n",
      " -0.327   -3.309  ]\n",
      "=====================Machine Model=====================\n",
      "INFO:     127.0.0.1:56632 - \"POST /predict?model=Machine%20Learning%20Model HTTP/1.1\" 200 OK\n"
     ]
    },
    {
     "name": "stderr",
     "output_type": "stream",
     "text": [
      "/home/abdelrahman/.local/lib/python3.6/site-packages/sklearn/base.py:334: UserWarning: Trying to unpickle estimator LinearSVC from version 1.0.2 when using version 0.23.1. This might lead to breaking code or invalid results. Use at your own risk.\n",
      "  UserWarning)\n",
      "/home/abdelrahman/.local/lib/python3.6/site-packages/sklearn/base.py:334: UserWarning: Trying to unpickle estimator AdaBoostClassifier from version 1.0.2 when using version 0.23.1. This might lead to breaking code or invalid results. Use at your own risk.\n",
      "  UserWarning)\n"
     ]
    },
    {
     "name": "stdout",
     "output_type": "stream",
     "text": [
      "==================================================\n",
      "(1, 64, 100)\n",
      "(1, 6400)\n",
      "==================================================\n",
      "[-2.328   -0.9917  -2.174   -1.218   -0.8213   0.595    0.244   -1.181\n",
      " -2.256   -0.1447  -2.059    0.9424  -2.586    0.628   -2.98     1.889\n",
      " -4.46     1.122   -1.91     1.91    -0.02718  0.0338  -3.031    0.6924\n",
      "  1.287   -0.5693  -0.07416  3.229   -4.062    0.5566   0.799   -1.186\n",
      "  0.02551  3.201   -3.523    1.761   -3.514   -3.576   -3.35    -0.6567\n",
      " -2.783   -0.3848   1.451    1.062   -2.227    1.039    3.19    -1.053\n",
      "  1.575   -1.143  ]\n",
      "=====================Machine Model=====================\n",
      "INFO:     127.0.0.1:56656 - \"POST /predict?model=Machine%20Learning%20Model HTTP/1.1\" 200 OK\n"
     ]
    },
    {
     "name": "stderr",
     "output_type": "stream",
     "text": [
      "/home/abdelrahman/.local/lib/python3.6/site-packages/sklearn/base.py:334: UserWarning: Trying to unpickle estimator LinearSVC from version 1.0.2 when using version 0.23.1. This might lead to breaking code or invalid results. Use at your own risk.\n",
      "  UserWarning)\n",
      "/home/abdelrahman/.local/lib/python3.6/site-packages/sklearn/base.py:334: UserWarning: Trying to unpickle estimator AdaBoostClassifier from version 1.0.2 when using version 0.23.1. This might lead to breaking code or invalid results. Use at your own risk.\n",
      "  UserWarning)\n"
     ]
    },
    {
     "name": "stdout",
     "output_type": "stream",
     "text": [
      "==================================================\n",
      "(1, 64, 100)\n",
      "(1, 6400)\n",
      "==================================================\n",
      "[-2.328   -0.9917  -2.174   -1.218   -0.8213   0.595    0.244   -1.181\n",
      " -2.256   -0.1447  -2.059    0.9424  -2.586    0.628   -2.98     1.889\n",
      " -4.46     1.122   -1.91     1.91    -0.02718  0.0338  -3.031    0.6924\n",
      "  1.287   -0.5693  -0.07416  3.229   -4.062    0.5566   0.799   -1.186\n",
      "  0.02551  3.201   -3.523    1.761   -3.514   -3.576   -3.35    -0.6567\n",
      " -2.783   -0.3848   1.451    1.062   -2.227    1.039    3.19    -1.053\n",
      "  1.575   -1.143  ]\n",
      "=====================Deep Model=====================\n",
      "INFO:     127.0.0.1:56658 - \"POST /predict?model=Deep%20Learning%20Model HTTP/1.1\" 200 OK\n",
      "INFO:     127.0.0.1:56784 - \"GET /docs HTTP/1.1\" 200 OK\n",
      "INFO:     127.0.0.1:56784 - \"GET /openapi.json HTTP/1.1\" 200 OK\n",
      "==================================================\n",
      "(1, 64, 100)\n",
      "(1, 6400)\n",
      "==================================================\n",
      "[-2.328   -0.9917  -2.174   -1.218   -0.8213   0.595    0.244   -1.181\n",
      " -2.256   -0.1447  -2.059    0.9424  -2.586    0.628   -2.98     1.889\n",
      " -4.46     1.122   -1.91     1.91    -0.02718  0.0338  -3.031    0.6924\n",
      "  1.287   -0.5693  -0.07416  3.229   -4.062    0.5566   0.799   -1.186\n",
      "  0.02551  3.201   -3.523    1.761   -3.514   -3.576   -3.35    -0.6567\n",
      " -2.783   -0.3848   1.451    1.062   -2.227    1.039    3.19    -1.053\n",
      "  1.575   -1.143  ]\n",
      "=====================Machine Model=====================\n",
      "INFO:     127.0.0.1:56786 - \"POST /predict?model=Machine%20Learning%20Model HTTP/1.1\" 200 OK\n"
     ]
    },
    {
     "name": "stderr",
     "output_type": "stream",
     "text": [
      "/home/abdelrahman/.local/lib/python3.6/site-packages/sklearn/base.py:334: UserWarning: Trying to unpickle estimator LinearSVC from version 1.0.2 when using version 0.23.1. This might lead to breaking code or invalid results. Use at your own risk.\n",
      "  UserWarning)\n",
      "/home/abdelrahman/.local/lib/python3.6/site-packages/sklearn/base.py:334: UserWarning: Trying to unpickle estimator AdaBoostClassifier from version 1.0.2 when using version 0.23.1. This might lead to breaking code or invalid results. Use at your own risk.\n",
      "  UserWarning)\n"
     ]
    },
    {
     "name": "stdout",
     "output_type": "stream",
     "text": [
      "==================================================\n",
      "(1, 64, 100)\n",
      "(1, 6400)\n",
      "==================================================\n",
      "[-2.328   -0.9917  -2.174   -1.218   -0.8213   0.595    0.244   -1.181\n",
      " -2.256   -0.1447  -2.059    0.9424  -2.586    0.628   -2.98     1.889\n",
      " -4.46     1.122   -1.91     1.91    -0.02718  0.0338  -3.031    0.6924\n",
      "  1.287   -0.5693  -0.07416  3.229   -4.062    0.5566   0.799   -1.186\n",
      "  0.02551  3.201   -3.523    1.761   -3.514   -3.576   -3.35    -0.6567\n",
      " -2.783   -0.3848   1.451    1.062   -2.227    1.039    3.19    -1.053\n",
      "  1.575   -1.143  ]\n",
      "=====================Deep Model=====================\n",
      "INFO:     127.0.0.1:56792 - \"POST /predict?model=Deep%20Learning%20Model HTTP/1.1\" 200 OK\n",
      "==================================================\n",
      "(1, 64, 100)\n",
      "(1, 6400)\n",
      "==================================================\n",
      "[ 0.1486   0.755   -0.1288  -0.886   -0.08746  0.4082  -0.951    0.441\n",
      " -0.6875  -0.6807  -0.2715   0.0774  -0.6895   0.4248   0.1716  -0.5034\n",
      "  0.07104 -0.1714   0.591    0.3103  -0.041    0.03302 -0.4868  -0.02406\n",
      "  0.0445   0.1373   0.03772  0.153   -0.5596  -0.209    0.3499  -0.4282\n",
      "  0.1486  -0.1556  -0.2373   0.5933   0.3188  -0.5513  -0.04843 -0.1858\n",
      "  0.0177  -0.4482   0.27    -0.1709  -0.911   -0.616   -0.06683  0.6475\n",
      "  0.517   -0.431  ]\n",
      "=====================Deep Model=====================\n",
      "INFO:     127.0.0.1:56794 - \"POST /predict?model=Deep%20Learning%20Model HTTP/1.1\" 200 OK\n",
      "==================================================\n",
      "(1, 64, 100)\n",
      "(1, 6400)\n",
      "==================================================\n",
      "[ 0.1486   0.755   -0.1288  -0.886   -0.08746  0.4082  -0.951    0.441\n",
      " -0.6875  -0.6807  -0.2715   0.0774  -0.6895   0.4248   0.1716  -0.5034\n",
      "  0.07104 -0.1714   0.591    0.3103  -0.041    0.03302 -0.4868  -0.02406\n",
      "  0.0445   0.1373   0.03772  0.153   -0.5596  -0.209    0.3499  -0.4282\n",
      "  0.1486  -0.1556  -0.2373   0.5933   0.3188  -0.5513  -0.04843 -0.1858\n",
      "  0.0177  -0.4482   0.27    -0.1709  -0.911   -0.616   -0.06683  0.6475\n",
      "  0.517   -0.431  ]\n",
      "=====================Machine Model=====================\n",
      "INFO:     127.0.0.1:56796 - \"POST /predict?model=Machine%20Learning%20Model HTTP/1.1\" 200 OK\n"
     ]
    },
    {
     "name": "stderr",
     "output_type": "stream",
     "text": [
      "/home/abdelrahman/.local/lib/python3.6/site-packages/sklearn/base.py:334: UserWarning: Trying to unpickle estimator LinearSVC from version 1.0.2 when using version 0.23.1. This might lead to breaking code or invalid results. Use at your own risk.\n",
      "  UserWarning)\n",
      "/home/abdelrahman/.local/lib/python3.6/site-packages/sklearn/base.py:334: UserWarning: Trying to unpickle estimator AdaBoostClassifier from version 1.0.2 when using version 0.23.1. This might lead to breaking code or invalid results. Use at your own risk.\n",
      "  UserWarning)\n"
     ]
    },
    {
     "name": "stdout",
     "output_type": "stream",
     "text": [
      "==================================================\n",
      "(1, 64, 100)\n",
      "(1, 6400)\n",
      "==================================================\n",
      "[-1.841e+00  1.638e+00  3.354e+00  8.380e-02  7.325e-05  6.528e-01\n",
      "  5.000e+00  6.219e+00  1.687e+00 -2.180e+00  6.055e-01  2.625e-01\n",
      " -1.613e-02 -3.180e+00  9.072e-01  2.477e+00 -2.234e+00  3.498e+00\n",
      " -6.899e-01 -1.999e+00 -3.326e+00 -1.148e+00  2.125e+00  7.406e+00\n",
      " -8.435e-02  6.279e-01  2.394e-01  1.119e+00  1.062e+00 -4.789e+00\n",
      " -5.688e-01 -2.854e+00  1.246e+00  3.664e+00  4.214e-01  1.588e-01\n",
      " -2.211e+00  6.270e+00  2.402e+00 -5.055e+00 -3.955e-01  3.228e-01\n",
      " -1.237e+00  9.697e-01  3.655e-01  1.632e+00  1.162e+00  2.811e+00\n",
      " -1.986e-01 -5.532e-01]\n",
      "=====================Machine Model=====================\n",
      "INFO:     127.0.0.1:56798 - \"POST /predict?model=Machine%20Learning%20Model HTTP/1.1\" 200 OK\n"
     ]
    },
    {
     "name": "stderr",
     "output_type": "stream",
     "text": [
      "/home/abdelrahman/.local/lib/python3.6/site-packages/sklearn/base.py:334: UserWarning: Trying to unpickle estimator LinearSVC from version 1.0.2 when using version 0.23.1. This might lead to breaking code or invalid results. Use at your own risk.\n",
      "  UserWarning)\n",
      "/home/abdelrahman/.local/lib/python3.6/site-packages/sklearn/base.py:334: UserWarning: Trying to unpickle estimator AdaBoostClassifier from version 1.0.2 when using version 0.23.1. This might lead to breaking code or invalid results. Use at your own risk.\n",
      "  UserWarning)\n"
     ]
    },
    {
     "name": "stdout",
     "output_type": "stream",
     "text": [
      "==================================================\n",
      "(1, 64, 100)\n",
      "(1, 6400)\n",
      "==================================================\n",
      "[-1.841e+00  1.638e+00  3.354e+00  8.380e-02  7.325e-05  6.528e-01\n",
      "  5.000e+00  6.219e+00  1.687e+00 -2.180e+00  6.055e-01  2.625e-01\n",
      " -1.613e-02 -3.180e+00  9.072e-01  2.477e+00 -2.234e+00  3.498e+00\n",
      " -6.899e-01 -1.999e+00 -3.326e+00 -1.148e+00  2.125e+00  7.406e+00\n",
      " -8.435e-02  6.279e-01  2.394e-01  1.119e+00  1.062e+00 -4.789e+00\n",
      " -5.688e-01 -2.854e+00  1.246e+00  3.664e+00  4.214e-01  1.588e-01\n",
      " -2.211e+00  6.270e+00  2.402e+00 -5.055e+00 -3.955e-01  3.228e-01\n",
      " -1.237e+00  9.697e-01  3.655e-01  1.632e+00  1.162e+00  2.811e+00\n",
      " -1.986e-01 -5.532e-01]\n",
      "=====================Deep Model=====================\n",
      "INFO:     127.0.0.1:56800 - \"POST /predict?model=Deep%20Learning%20Model HTTP/1.1\" 200 OK\n",
      "==================================================\n",
      "(1, 64, 100)\n",
      "(1, 6400)\n",
      "==================================================\n",
      "[ 0.04227  0.3396   2.303   -2.246    0.5977   0.591   -2.148    2.463\n",
      "  1.104    0.698    0.05704 -1.983    1.277    0.4531   0.7046  -0.398\n",
      " -0.507   -1.136    0.6167   1.898   -2.346   -3.586   -1.147    0.2496\n",
      "  0.7485  -0.4832   1.058    0.9775  -1.462   -1.116    2.854   -0.974\n",
      "  1.643   -2.555    1.673    3.057   -0.4753  -1.548   -2.463   -1.449\n",
      " -1.764    0.6465   2.08    -0.494   -1.995   -0.1799   1.498    1.854\n",
      "  5.117   -1.554  ]\n",
      "=====================Deep Model=====================\n",
      "WARNING:tensorflow:5 out of the last 5 calls to <function Model.make_predict_function.<locals>.predict_function at 0x7feee13cd400> triggered tf.function retracing. Tracing is expensive and the excessive number of tracings could be due to (1) creating @tf.function repeatedly in a loop, (2) passing tensors with different shapes, (3) passing Python objects instead of tensors. For (1), please define your @tf.function outside of the loop. For (2), @tf.function has experimental_relax_shapes=True option that relaxes argument shapes that can avoid unnecessary retracing. For (3), please refer to https://www.tensorflow.org/guide/function#controlling_retracing and https://www.tensorflow.org/api_docs/python/tf/function for  more details.\n",
      "INFO:     127.0.0.1:56804 - \"POST /predict?model=Deep%20Learning%20Model HTTP/1.1\" 200 OK\n",
      "==================================================\n",
      "(1, 64, 100)\n",
      "(1, 6400)\n",
      "==================================================\n",
      "[ 0.04227  0.3396   2.303   -2.246    0.5977   0.591   -2.148    2.463\n",
      "  1.104    0.698    0.05704 -1.983    1.277    0.4531   0.7046  -0.398\n",
      " -0.507   -1.136    0.6167   1.898   -2.346   -3.586   -1.147    0.2496\n",
      "  0.7485  -0.4832   1.058    0.9775  -1.462   -1.116    2.854   -0.974\n",
      "  1.643   -2.555    1.673    3.057   -0.4753  -1.548   -2.463   -1.449\n",
      " -1.764    0.6465   2.08    -0.494   -1.995   -0.1799   1.498    1.854\n",
      "  5.117   -1.554  ]\n",
      "=====================Machine Model=====================\n",
      "INFO:     127.0.0.1:56806 - \"POST /predict?model=Machine%20Learning%20Model HTTP/1.1\" 200 OK\n"
     ]
    },
    {
     "name": "stderr",
     "output_type": "stream",
     "text": [
      "/home/abdelrahman/.local/lib/python3.6/site-packages/sklearn/base.py:334: UserWarning: Trying to unpickle estimator LinearSVC from version 1.0.2 when using version 0.23.1. This might lead to breaking code or invalid results. Use at your own risk.\n",
      "  UserWarning)\n",
      "/home/abdelrahman/.local/lib/python3.6/site-packages/sklearn/base.py:334: UserWarning: Trying to unpickle estimator AdaBoostClassifier from version 1.0.2 when using version 0.23.1. This might lead to breaking code or invalid results. Use at your own risk.\n",
      "  UserWarning)\n"
     ]
    },
    {
     "name": "stdout",
     "output_type": "stream",
     "text": [
      "==================================================\n",
      "(1, 64, 100)\n",
      "(1, 6400)\n",
      "==================================================\n",
      "[ 1.7129e+00  5.9570e-01  5.8691e-01 -1.3281e+00 -9.7070e-01 -4.2627e-01\n",
      "  5.3760e-01  2.5820e+00  6.6914e+00  9.9316e-01  6.5869e-01 -2.9590e+00\n",
      " -4.2554e-01 -6.1992e+00 -5.4541e-01  4.0308e-01  1.6689e+00  2.1875e+00\n",
      "  2.8848e+00  1.5303e+00 -3.4238e+00 -1.2510e+00  1.8125e+00  2.0371e+00\n",
      "  1.7725e+00  5.6641e+00 -1.9153e-01  5.1172e-01  2.5820e+00 -2.5723e+00\n",
      " -1.1191e+00 -1.0684e+00  6.5384e-03  1.4922e+00  1.4609e+00 -2.0820e+00\n",
      " -2.1934e+00  3.3594e+00  4.3945e-01 -8.7012e-01  2.8926e+00  1.0254e+00\n",
      " -3.1006e-01  3.3398e-01 -1.2539e+00  5.4395e-01 -1.9102e+00  3.5859e+00\n",
      " -1.9121e+00  1.6064e+00]\n",
      "=====================Machine Model=====================\n",
      "INFO:     127.0.0.1:56808 - \"POST /predict?model=Machine%20Learning%20Model HTTP/1.1\" 200 OK\n"
     ]
    },
    {
     "name": "stderr",
     "output_type": "stream",
     "text": [
      "/home/abdelrahman/.local/lib/python3.6/site-packages/sklearn/base.py:334: UserWarning: Trying to unpickle estimator LinearSVC from version 1.0.2 when using version 0.23.1. This might lead to breaking code or invalid results. Use at your own risk.\n",
      "  UserWarning)\n",
      "/home/abdelrahman/.local/lib/python3.6/site-packages/sklearn/base.py:334: UserWarning: Trying to unpickle estimator AdaBoostClassifier from version 1.0.2 when using version 0.23.1. This might lead to breaking code or invalid results. Use at your own risk.\n",
      "  UserWarning)\n"
     ]
    },
    {
     "name": "stdout",
     "output_type": "stream",
     "text": [
      "==================================================\n",
      "(1, 64, 100)\n",
      "(1, 6400)\n",
      "==================================================\n",
      "[ 0.477   -0.01135  0.0696  -4.164   -3.238    1.798    4.68    -1.371\n",
      "  1.445    1.869    2.707   -2.088    2.012    0.5205   2.799   -0.548\n",
      "  2.428   -1.763    2.543    4.87     0.2563   1.522    7.246   -3.271\n",
      "  4.527   -0.3157   3.348   -2.203    2.527   -0.86    -2.062    5.32\n",
      "  3.979   -0.4941  -0.0847   0.6763  -0.604   -0.9663   5.13     0.9136\n",
      "  0.138   -0.6196   1.367   -4.137    0.2275   4.19     1.11    -2.193\n",
      " -0.1687  -0.1796 ]\n",
      "=====================Machine Model=====================\n",
      "INFO:     127.0.0.1:56818 - \"POST /predict?model=Machine%20Learning%20Model HTTP/1.1\" 200 OK\n"
     ]
    },
    {
     "name": "stderr",
     "output_type": "stream",
     "text": [
      "/home/abdelrahman/.local/lib/python3.6/site-packages/sklearn/base.py:334: UserWarning: Trying to unpickle estimator LinearSVC from version 1.0.2 when using version 0.23.1. This might lead to breaking code or invalid results. Use at your own risk.\n",
      "  UserWarning)\n",
      "/home/abdelrahman/.local/lib/python3.6/site-packages/sklearn/base.py:334: UserWarning: Trying to unpickle estimator AdaBoostClassifier from version 1.0.2 when using version 0.23.1. This might lead to breaking code or invalid results. Use at your own risk.\n",
      "  UserWarning)\n"
     ]
    },
    {
     "name": "stdout",
     "output_type": "stream",
     "text": [
      "==================================================\n",
      "(1, 64, 100)\n",
      "(1, 6400)\n",
      "==================================================\n",
      "[ 0.477   -0.01135  0.0696  -4.164   -3.238    1.798    4.68    -1.371\n",
      "  1.445    1.869    2.707   -2.088    2.012    0.5205   2.799   -0.548\n",
      "  2.428   -1.763    2.543    4.87     0.2563   1.522    7.246   -3.271\n",
      "  4.527   -0.3157   3.348   -2.203    2.527   -0.86    -2.062    5.32\n",
      "  3.979   -0.4941  -0.0847   0.6763  -0.604   -0.9663   5.13     0.9136\n",
      "  0.138   -0.6196   1.367   -4.137    0.2275   4.19     1.11    -2.193\n",
      " -0.1687  -0.1796 ]\n",
      "=====================Deep Model=====================\n",
      "WARNING:tensorflow:6 out of the last 6 calls to <function Model.make_predict_function.<locals>.predict_function at 0x7feee188a7b8> triggered tf.function retracing. Tracing is expensive and the excessive number of tracings could be due to (1) creating @tf.function repeatedly in a loop, (2) passing tensors with different shapes, (3) passing Python objects instead of tensors. For (1), please define your @tf.function outside of the loop. For (2), @tf.function has experimental_relax_shapes=True option that relaxes argument shapes that can avoid unnecessary retracing. For (3), please refer to https://www.tensorflow.org/guide/function#controlling_retracing and https://www.tensorflow.org/api_docs/python/tf/function for  more details.\n",
      "INFO:     127.0.0.1:56820 - \"POST /predict?model=Deep%20Learning%20Model HTTP/1.1\" 200 OK\n",
      "==================================================\n",
      "(1, 64, 100)\n",
      "(1, 6400)\n",
      "==================================================\n",
      "[ 2.506   -3.645   -0.4998   3.406   -0.4663   0.266    2.14    -1.289\n",
      " -2.28    -0.4846  -0.511   -1.741    0.58     2.408    0.5923   1.864\n",
      "  1.01    -0.3096   1.424    1.643   -0.02928 -1.201    1.955   -2.826\n",
      " -1.78     0.1923   0.8696   3.75    -0.4248  -2.676   -1.929   -2.703\n",
      "  4.13    -2.5     -1.373    0.0654  -0.1268  -0.538    0.6577   3.447\n",
      " -0.1959   2.371   -1.949   -1.229   -1.179   -1.408    2.74    -0.936\n",
      " -1.972   -2.617  ]\n",
      "=====================Deep Model=====================\n",
      "INFO:     127.0.0.1:56822 - \"POST /predict?model=Deep%20Learning%20Model HTTP/1.1\" 200 OK\n",
      "==================================================\n",
      "(1, 64, 100)\n",
      "(1, 6400)\n",
      "==================================================\n",
      "[ 2.506   -3.645   -0.4998   3.406   -0.4663   0.266    2.14    -1.289\n",
      " -2.28    -0.4846  -0.511   -1.741    0.58     2.408    0.5923   1.864\n",
      "  1.01    -0.3096   1.424    1.643   -0.02928 -1.201    1.955   -2.826\n",
      " -1.78     0.1923   0.8696   3.75    -0.4248  -2.676   -1.929   -2.703\n",
      "  4.13    -2.5     -1.373    0.0654  -0.1268  -0.538    0.6577   3.447\n",
      " -0.1959   2.371   -1.949   -1.229   -1.179   -1.408    2.74    -0.936\n",
      " -1.972   -2.617  ]\n",
      "=====================Machine Model=====================\n",
      "INFO:     127.0.0.1:56824 - \"POST /predict?model=Machine%20Learning%20Model HTTP/1.1\" 200 OK\n"
     ]
    },
    {
     "name": "stderr",
     "output_type": "stream",
     "text": [
      "/home/abdelrahman/.local/lib/python3.6/site-packages/sklearn/base.py:334: UserWarning: Trying to unpickle estimator LinearSVC from version 1.0.2 when using version 0.23.1. This might lead to breaking code or invalid results. Use at your own risk.\n",
      "  UserWarning)\n",
      "/home/abdelrahman/.local/lib/python3.6/site-packages/sklearn/base.py:334: UserWarning: Trying to unpickle estimator AdaBoostClassifier from version 1.0.2 when using version 0.23.1. This might lead to breaking code or invalid results. Use at your own risk.\n",
      "  UserWarning)\n"
     ]
    }
   ],
   "source": [
    "# Allows the server to be run in this interactive environment\n",
    "nest_asyncio.apply()\n",
    "\n",
    "# Host depends on the setup you selected\n",
    "host = \"0.0.0.0\"\n",
    "\n",
    "# uvicorn is fast Asynchronous Server Gateway Interface (ASGI) uvicorn handles the serving\n",
    "# Spin up the server!    \n",
    "uvicorn.run(app, host=host, port=8000)"
   ]
  },
  {
   "cell_type": "code",
   "execution_count": null,
   "id": "02f58cd7",
   "metadata": {},
   "outputs": [],
   "source": []
  }
 ],
 "metadata": {
  "kernelspec": {
   "display_name": "Python 3",
   "language": "python",
   "name": "python3"
  },
  "language_info": {
   "codemirror_mode": {
    "name": "ipython",
    "version": 3
   },
   "file_extension": ".py",
   "mimetype": "text/x-python",
   "name": "python",
   "nbconvert_exporter": "python",
   "pygments_lexer": "ipython3",
   "version": "3.6.9"
  }
 },
 "nbformat": 4,
 "nbformat_minor": 5
}
