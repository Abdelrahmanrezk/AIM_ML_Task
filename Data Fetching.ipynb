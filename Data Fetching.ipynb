{
 "cells": [
  {
   "cell_type": "code",
   "execution_count": 1,
   "id": "a91a48ca",
   "metadata": {},
   "outputs": [],
   "source": [
    "# Main libraries\n",
    "import pandas as pd\n",
    "import numpy as np\n",
    "import matplotlib.pyplot as plt\n",
    "\n",
    "from fetch_data import *"
   ]
  },
  {
   "cell_type": "code",
   "execution_count": 2,
   "id": "5874425a",
   "metadata": {},
   "outputs": [
    {
     "name": "stdout",
     "output_type": "stream",
     "text": [
      "Number of instances in the file are:  458197\n"
     ]
    },
    {
     "data": {
      "text/html": [
       "<div>\n",
       "<style scoped>\n",
       "    .dataframe tbody tr th:only-of-type {\n",
       "        vertical-align: middle;\n",
       "    }\n",
       "\n",
       "    .dataframe tbody tr th {\n",
       "        vertical-align: top;\n",
       "    }\n",
       "\n",
       "    .dataframe thead th {\n",
       "        text-align: right;\n",
       "    }\n",
       "</style>\n",
       "<table border=\"1\" class=\"dataframe\">\n",
       "  <thead>\n",
       "    <tr style=\"text-align: right;\">\n",
       "      <th></th>\n",
       "      <th>id</th>\n",
       "      <th>dialect</th>\n",
       "    </tr>\n",
       "  </thead>\n",
       "  <tbody>\n",
       "    <tr>\n",
       "      <th>0</th>\n",
       "      <td>1175358310087892992</td>\n",
       "      <td>IQ</td>\n",
       "    </tr>\n",
       "    <tr>\n",
       "      <th>1</th>\n",
       "      <td>1175416117793349632</td>\n",
       "      <td>IQ</td>\n",
       "    </tr>\n",
       "    <tr>\n",
       "      <th>2</th>\n",
       "      <td>1175450108898565888</td>\n",
       "      <td>IQ</td>\n",
       "    </tr>\n",
       "    <tr>\n",
       "      <th>3</th>\n",
       "      <td>1175471073770573824</td>\n",
       "      <td>IQ</td>\n",
       "    </tr>\n",
       "    <tr>\n",
       "      <th>4</th>\n",
       "      <td>1175496913145217024</td>\n",
       "      <td>IQ</td>\n",
       "    </tr>\n",
       "  </tbody>\n",
       "</table>\n",
       "</div>"
      ],
      "text/plain": [
       "                    id dialect\n",
       "0  1175358310087892992      IQ\n",
       "1  1175416117793349632      IQ\n",
       "2  1175450108898565888      IQ\n",
       "3  1175471073770573824      IQ\n",
       "4  1175496913145217024      IQ"
      ]
     },
     "execution_count": 2,
     "metadata": {},
     "output_type": "execute_result"
    }
   ],
   "source": [
    "dialect_dataset = read_csv(\"dialect_dataset.csv\")\n",
    "\n",
    "# Display first 5 rows from the file\n",
    "dialect_dataset.head()"
   ]
  },
  {
   "cell_type": "markdown",
   "id": "8f085e2b",
   "metadata": {},
   "source": [
    "# Info\n",
    "\n",
    "The info() method help us to get intuition about each column(attribute) in our dataset either in:\n",
    "- The data type of each column.\n",
    "- The number of Non-Null values that this column has(overall cell that not null).\n",
    "- The memory that this file takes from our RAM."
   ]
  },
  {
   "cell_type": "code",
   "execution_count": 3,
   "id": "a8730676",
   "metadata": {},
   "outputs": [
    {
     "name": "stdout",
     "output_type": "stream",
     "text": [
      "<class 'pandas.core.frame.DataFrame'>\n",
      "RangeIndex: 458197 entries, 0 to 458196\n",
      "Data columns (total 2 columns):\n",
      " #   Column   Non-Null Count   Dtype \n",
      "---  ------   --------------   ----- \n",
      " 0   id       458197 non-null  int64 \n",
      " 1   dialect  458197 non-null  object\n",
      "dtypes: int64(1), object(1)\n",
      "memory usage: 7.0+ MB\n"
     ]
    }
   ],
   "source": [
    "dialect_dataset.info()"
   ]
  },
  {
   "cell_type": "markdown",
   "id": "b82d046a",
   "metadata": {},
   "source": [
    "# value_counts() Method\n",
    "\n",
    "When it comes to categorical variables which hold some of the discrete values like classification problem, in general we have number of classes like all cell in this column **dialect** will have one of these values [EG, PL] and others as we can see below."
   ]
  },
  {
   "cell_type": "code",
   "execution_count": 4,
   "id": "2ec3cd00",
   "metadata": {},
   "outputs": [
    {
     "name": "stdout",
     "output_type": "stream",
     "text": [
      "The total number of classes are:  18\n"
     ]
    },
    {
     "data": {
      "text/plain": [
       "EG    57636\n",
       "PL    43742\n",
       "KW    42109\n",
       "LY    36499\n",
       "QA    31069\n",
       "JO    27921\n",
       "LB    27617\n",
       "SA    26832\n",
       "AE    26296\n",
       "BH    26292\n",
       "OM    19116\n",
       "SY    16242\n",
       "DZ    16183\n",
       "IQ    15497\n",
       "SD    14434\n",
       "MA    11539\n",
       "YE     9927\n",
       "TN     9246\n",
       "Name: dialect, dtype: int64"
      ]
     },
     "execution_count": 4,
     "metadata": {},
     "output_type": "execute_result"
    }
   ],
   "source": [
    "print(\"The total number of classes are: \", len(dialect_dataset['dialect'].value_counts()))\n",
    "dialect_dataset['dialect'].value_counts()"
   ]
  },
  {
   "cell_type": "code",
   "execution_count": 5,
   "id": "ac1caab7",
   "metadata": {},
   "outputs": [
    {
     "data": {
      "text/plain": [
       "(array([15497., 36499., 31069., 43742., 16242.,  9246., 27921., 11539.,\n",
       "        26832.,  9927., 16183., 57636., 27617., 42109., 19116., 14434.,\n",
       "        26296., 26292.]),\n",
       " array([ 0.        ,  0.94444444,  1.88888889,  2.83333333,  3.77777778,\n",
       "         4.72222222,  5.66666667,  6.61111111,  7.55555556,  8.5       ,\n",
       "         9.44444444, 10.38888889, 11.33333333, 12.27777778, 13.22222222,\n",
       "        14.16666667, 15.11111111, 16.05555556, 17.        ]),\n",
       " <a list of 18 Patch objects>)"
      ]
     },
     "execution_count": 5,
     "metadata": {},
     "output_type": "execute_result"
    },
    {
     "data": {
      "image/png": "[encoded data removed]",
      "text/plain": [
       "<Figure size 432x288 with 1 Axes>"
      ]
     },
     "metadata": {
      "needs_background": "light"
     },
     "output_type": "display_data"
    }
   ],
   "source": [
    "plt.hist(dialect_dataset['dialect'], rwidth=0.8, bins=18)"
   ]
  },
  {
   "cell_type": "code",
   "execution_count": 6,
   "id": "ae03d33a",
   "metadata": {},
   "outputs": [
    {
     "data": {
      "text/plain": [
       "Index(['id', 'dialect'], dtype='object')"
      ]
     },
     "execution_count": 6,
     "metadata": {},
     "output_type": "execute_result"
    }
   ],
   "source": [
    "dialect_dataset.columns"
   ]
  },
  {
   "cell_type": "code",
   "execution_count": null,
   "id": "b837d876",
   "metadata": {},
   "outputs": [
    {
     "name": "stdout",
     "output_type": "stream",
     "text": [
      "Number of instances in the file are:  458197\n",
      "We have total number of ids:  458197\n",
      "==================================================\n"
     ]
    }
   ],
   "source": [
    "file_name_to_read = \"dialect_dataset.csv\"\n",
    "file_name_to_save = \"dialect_dataset_with_text.csv\"\n",
    "col_to_convert = \"id\"\n",
    "dialect_col    = \"dialect\"\n",
    "_ = fetching_pipeline(file_name_to_read, file_name_to_save, col_to_convert, dialect_col)"
   ]
  },
  {
   "cell_type": "code",
   "execution_count": null,
   "id": "fafe309e",
   "metadata": {},
   "outputs": [],
   "source": [
    "new_dialect_dataset = read_csv(\"dialect_dataset_with_text.csv\")\n",
    "new_dialect_dataset.head()"
   ]
  },
  {
   "cell_type": "code",
   "execution_count": null,
   "id": "2a15262c",
   "metadata": {},
   "outputs": [],
   "source": []
  }
 ],
 "metadata": {
  "kernelspec": {
   "display_name": "Python 3",
   "language": "python",
   "name": "python3"
  },
  "language_info": {
   "codemirror_mode": {
    "name": "ipython",
    "version": 3
   },
   "file_extension": ".py",
   "mimetype": "text/x-python",
   "name": "python",
   "nbconvert_exporter": "python",
   "pygments_lexer": "ipython3",
   "version": "3.6.9"
  }
 },
 "nbformat": 4,
 "nbformat_minor": 5
}
