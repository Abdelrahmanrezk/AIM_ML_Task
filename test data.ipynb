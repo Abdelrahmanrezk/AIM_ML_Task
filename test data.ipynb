{
 "cells": [
  {
   "cell_type": "code",
   "execution_count": 1,
   "id": "36778629",
   "metadata": {},
   "outputs": [],
   "source": [
    "# Main libraries\n",
    "from configs import *\n",
    "from data_preprocess import *\n",
    "from data_shuffling_split import *"
   ]
  },
  {
   "cell_type": "code",
   "execution_count": 5,
   "id": "54b1cfb6",
   "metadata": {},
   "outputs": [
    {
     "name": "stdout",
     "output_type": "stream",
     "text": [
      "Number of instances in the file are:  9164\n"
     ]
    },
    {
     "data": {
      "text/html": [
       "<div>\n",
       "<style scoped>\n",
       "    .dataframe tbody tr th:only-of-type {\n",
       "        vertical-align: middle;\n",
       "    }\n",
       "\n",
       "    .dataframe tbody tr th {\n",
       "        vertical-align: top;\n",
       "    }\n",
       "\n",
       "    .dataframe thead th {\n",
       "        text-align: right;\n",
       "    }\n",
       "</style>\n",
       "<table border=\"1\" class=\"dataframe\">\n",
       "  <thead>\n",
       "    <tr style=\"text-align: right;\">\n",
       "      <th></th>\n",
       "      <th>id</th>\n",
       "      <th>dialect</th>\n",
       "      <th>dialect_l_encoded</th>\n",
       "      <th>text</th>\n",
       "    </tr>\n",
       "  </thead>\n",
       "  <tbody>\n",
       "    <tr>\n",
       "      <th>0</th>\n",
       "      <td>521982921184251904</td>\n",
       "      <td>SA</td>\n",
       "      <td>13</td>\n",
       "      <td>ياكثرهم في زمانك وياقلهم في وفاك : ياما سمعنا ...</td>\n",
       "    </tr>\n",
       "    <tr>\n",
       "      <th>1</th>\n",
       "      <td>905803604950470784</td>\n",
       "      <td>BH</td>\n",
       "      <td>1</td>\n",
       "      <td>حسابشخصي انزين انت الحين ما عرفت التسعيره عشان...</td>\n",
       "    </tr>\n",
       "    <tr>\n",
       "      <th>2</th>\n",
       "      <td>498984111034605568</td>\n",
       "      <td>LY</td>\n",
       "      <td>8</td>\n",
       "      <td>حسابشخصي ماعندكمش مطبخ في حوش فيه جو را 😂</td>\n",
       "    </tr>\n",
       "    <tr>\n",
       "      <th>3</th>\n",
       "      <td>1119979622408556416</td>\n",
       "      <td>SY</td>\n",
       "      <td>15</td>\n",
       "      <td>حسابشخصي فصح مجيد وينعاد عليكي بالخير رابطويب</td>\n",
       "    </tr>\n",
       "    <tr>\n",
       "      <th>4</th>\n",
       "      <td>1064139589617664000</td>\n",
       "      <td>KW</td>\n",
       "      <td>6</td>\n",
       "      <td>حسابشخصي الله يسلمج تسلمين وبزود نوركم وطيبكم ...</td>\n",
       "    </tr>\n",
       "    <tr>\n",
       "      <th>5</th>\n",
       "      <td>1167868563148816384</td>\n",
       "      <td>KW</td>\n",
       "      <td>6</td>\n",
       "      <td>حاولو يبيعونه ماقدرو توهقو فيه رابطويب</td>\n",
       "    </tr>\n",
       "    <tr>\n",
       "      <th>6</th>\n",
       "      <td>817080209920892928</td>\n",
       "      <td>LY</td>\n",
       "      <td>8</td>\n",
       "      <td>حسابشخصي في قصه اخري في المدونه , لا البحث الع...</td>\n",
       "    </tr>\n",
       "    <tr>\n",
       "      <th>7</th>\n",
       "      <td>656974945625460736</td>\n",
       "      <td>LY</td>\n",
       "      <td>8</td>\n",
       "      <td>حسابشخصي هه طول وين قريت الخبر جت ف بالي</td>\n",
       "    </tr>\n",
       "    <tr>\n",
       "      <th>8</th>\n",
       "      <td>923370053818568832</td>\n",
       "      <td>LY</td>\n",
       "      <td>8</td>\n",
       "      <td>من كثر ما انشغل علمائنا بالماخرات اصبحو لا يفك...</td>\n",
       "    </tr>\n",
       "    <tr>\n",
       "      <th>9</th>\n",
       "      <td>724766887507320832</td>\n",
       "      <td>EG</td>\n",
       "      <td>3</td>\n",
       "      <td>شفتوا الثوار عملوا ايه النهارده ؟ ثوره محصلتش ...</td>\n",
       "    </tr>\n",
       "  </tbody>\n",
       "</table>\n",
       "</div>"
      ],
      "text/plain": [
       "                    id dialect  dialect_l_encoded  \\\n",
       "0   521982921184251904      SA                 13   \n",
       "1   905803604950470784      BH                  1   \n",
       "2   498984111034605568      LY                  8   \n",
       "3  1119979622408556416      SY                 15   \n",
       "4  1064139589617664000      KW                  6   \n",
       "5  1167868563148816384      KW                  6   \n",
       "6   817080209920892928      LY                  8   \n",
       "7   656974945625460736      LY                  8   \n",
       "8   923370053818568832      LY                  8   \n",
       "9   724766887507320832      EG                  3   \n",
       "\n",
       "                                                text  \n",
       "0  ياكثرهم في زمانك وياقلهم في وفاك : ياما سمعنا ...  \n",
       "1  حسابشخصي انزين انت الحين ما عرفت التسعيره عشان...  \n",
       "2         حسابشخصي ماعندكمش مطبخ في حوش فيه جو را 😂   \n",
       "3      حسابشخصي فصح مجيد وينعاد عليكي بالخير رابطويب  \n",
       "4  حسابشخصي الله يسلمج تسلمين وبزود نوركم وطيبكم ...  \n",
       "5             حاولو يبيعونه ماقدرو توهقو فيه رابطويب  \n",
       "6  حسابشخصي في قصه اخري في المدونه , لا البحث الع...  \n",
       "7           حسابشخصي هه طول وين قريت الخبر جت ف بالي  \n",
       "8  من كثر ما انشغل علمائنا بالماخرات اصبحو لا يفك...  \n",
       "9  شفتوا الثوار عملوا ايه النهارده ؟ ثوره محصلتش ...  "
      ]
     },
     "execution_count": 5,
     "metadata": {},
     "output_type": "execute_result"
    }
   ],
   "source": [
    "strat_test_set = read_csv(\"test/strat_test_set.csv\")\n",
    "strat_test_set.head(10)"
   ]
  },
  {
   "cell_type": "code",
   "execution_count": 3,
   "id": "6e00705b",
   "metadata": {},
   "outputs": [
    {
     "data": {
      "text/plain": [
       "['ياكثرهم في زمانك وياقلهم في وفاك : ياما سمعنا القصايد لكنها ما تفيد العذر والغدر واضح تجني طريق الهلاك : اما حفظت المواصل والا خسرت الرصيد',\n",
       " 'حسابشخصي انزين انت الحين ما عرفت التسعيره عشان تقول له go head شلون تبي السياره تستوي ؟ ',\n",
       " 'حسابشخصي ماعندكمش مطبخ في حوش فيه جو را 😂 ',\n",
       " 'حسابشخصي فصح مجيد وينعاد عليكي بالخير رابطويب',\n",
       " 'حسابشخصي الله يسلمج تسلمين وبزود نوركم وطيبكم ونور اهلها 💐 ',\n",
       " 'حاولو يبيعونه ماقدرو توهقو فيه رابطويب',\n",
       " 'حسابشخصي في قصه اخري في المدونه , لا البحث العلمي بزنس 🤓 بنخلصو حق الكروت اللي شافطينهن منا 😁 ',\n",
       " 'حسابشخصي هه طول وين قريت الخبر جت ف بالي',\n",
       " 'من كثر ما انشغل علمائنا بالماخرات اصبحو لا يفكرون الا فيها . . ملا حاله يا ودي رابطويب',\n",
       " 'شفتوا الثوار عملوا ايه النهارده ؟ ثوره محصلتش ولا هتحصل رابطويب']"
      ]
     },
     "execution_count": 3,
     "metadata": {},
     "output_type": "execute_result"
    }
   ],
   "source": [
    "ls = list(strat_test_set['text'])\n",
    "ls[:50]"
   ]
  },
  {
   "cell_type": "code",
   "execution_count": null,
   "id": "c0eeb7fc",
   "metadata": {},
   "outputs": [],
   "source": []
  }
 ],
 "metadata": {
  "kernelspec": {
   "display_name": "Python 3",
   "language": "python",
   "name": "python3"
  },
  "language_info": {
   "codemirror_mode": {
    "name": "ipython",
    "version": 3
   },
   "file_extension": ".py",
   "mimetype": "text/x-python",
   "name": "python",
   "nbconvert_exporter": "python",
   "pygments_lexer": "ipython3",
   "version": "3.6.9"
  }
 },
 "nbformat": 4,
 "nbformat_minor": 5
}
