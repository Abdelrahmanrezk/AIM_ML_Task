{
 "cells": [
  {
   "cell_type": "code",
   "execution_count": null,
   "id": "fc1415dc",
   "metadata": {},
   "outputs": [],
   "source": [
    "import glob\n",
    "import os\n",
    "import matplotlib.pyplot as plt\n",
    "from collections import Counter\n",
    "from sklearn.svm import SVC\n",
    "from sklearn.ensemble import ExtraTreesClassifier\n",
    "from sklearn.linear_model import SGDClassifier, LogisticRegression\n",
    "from keras.models import Sequential\n",
    "from keras.layers import Dense, Dropout, Flatten, LSTM, Embedding\n",
    "from configs import *\n",
    "from fetch_data import *\n",
    "from features_extraction import *\n",
    "from data_shuffling_split import *\n",
    "from data_preprocess import *\n",
    "from ml_modeling import *"
   ]
  },
  {
   "cell_type": "code",
   "execution_count": null,
   "id": "545938ef",
   "metadata": {},
   "outputs": [],
   "source": [
    "strat_train_set = read_csv(\"train/strat_train_set.csv\")\n",
    "strat_train_set = strat_train_set.iloc[:5000]\n",
    "strat_train_set.head()"
   ]
  },
  {
   "cell_type": "code",
   "execution_count": null,
   "id": "7e9f511f",
   "metadata": {},
   "outputs": [],
   "source": [
    "word_to_vec_model = load_word2vec_model(\"models/word2vec/bakrianoo_unigram_cbow_100_twitter/full_uni_cbow_100_twitter.mdl\")"
   ]
  },
  {
   "cell_type": "code",
   "execution_count": null,
   "id": "fdef68ff",
   "metadata": {},
   "outputs": [],
   "source": [
    "x_train_text, x_val_text, y_train, y_val = prepare_data(strat_train_set)"
   ]
  },
  {
   "cell_type": "code",
   "execution_count": null,
   "id": "388d6a4b",
   "metadata": {},
   "outputs": [],
   "source": [
    "x_train_text_tokenized = tokenize_using_nltk_TreebankWordTokenizer(x_train_text)\n",
    "\n",
    "print(\"Before Tokenization : \\n\", x_train_text[:3])\n",
    "print(\"=\"*50)\n",
    "print(\"After Tokenization : \\n\", x_train_text_tokenized[:3])\n",
    "print(\"=\"*50)\n",
    "\n",
    "x_val_text_tokenized = tokenize_using_nltk_TreebankWordTokenizer(x_val_text)\n",
    "\n",
    "print(\"Before Tokenization : \\n\", x_val_text[:3])\n",
    "print(\"=\"*50)\n",
    "print(\"After Tokenization : \\n\", x_val_text_tokenized[:3])"
   ]
  },
  {
   "cell_type": "code",
   "execution_count": null,
   "id": "af79a0aa",
   "metadata": {},
   "outputs": [],
   "source": [
    "number_of_features = 100\n",
    "max_len_str = 64\n",
    "word2vec_path = \"rezk/\"\n",
    "model_path_to_save = \"models/ml_models/\"\n",
    "estimators = voting_models()\n",
    "\n",
    "X_train_embed_matrix = text_to_matrix_using_word2vec(word_to_vec_model, x_train_text_tokenized, max_len_str)\n",
    "X_val_embed_matrix = text_to_matrix_using_word2vec(word_to_vec_model, x_val_text_tokenized, max_len_str)"
   ]
  },
  {
   "cell_type": "code",
   "execution_count": null,
   "id": "0710ef4b",
   "metadata": {},
   "outputs": [],
   "source": [
    "X_train_embed_matrix.shape"
   ]
  },
  {
   "cell_type": "code",
   "execution_count": null,
   "id": "8816b2c4",
   "metadata": {},
   "outputs": [],
   "source": [
    "X_train_embed_matrix = X_train_embed_matrix.reshape([X_train_embed_matrix.shape[0], max_len_str, number_of_features])\n",
    "X_val_embed_matrix  = X_val_embed_matrix.reshape([X_val_embed_matrix.shape[0], max_len_str, number_of_features])"
   ]
  },
  {
   "cell_type": "code",
   "execution_count": null,
   "id": "654b2475",
   "metadata": {},
   "outputs": [],
   "source": [
    "X_train_embed_matrix.shape"
   ]
  },
  {
   "cell_type": "code",
   "execution_count": null,
   "id": "11f4230f",
   "metadata": {},
   "outputs": [],
   "source": [
    "def tokenize_and_vectorize(train_text, word_to_vec_model):\n",
    "    tokenizer = TreebankWordTokenizer()\n",
    "    vectorize_data = []\n",
    "    for sampel in train_text:\n",
    "        tokens = tokenizer.tokenize(sampel)\n",
    "        sampel_vec=[]\n",
    "        for token in tokens:\n",
    "            try:\n",
    "                sampel_vec.append(word_to_vec_model.wv[token])\n",
    "            except KeyError:\n",
    "                pass\n",
    "        vectorize_data.append(sampel_vec)\n",
    "    return vectorize_data"
   ]
  },
  {
   "cell_type": "code",
   "execution_count": null,
   "id": "4eeff2fc",
   "metadata": {},
   "outputs": [],
   "source": [
    "X_train = tokenize_and_vectorize(x_train_text, word_to_vec_model)\n",
    "X_val = tokenize_and_vectorize(x_val_text, word_to_vec_model)"
   ]
  },
  {
   "cell_type": "code",
   "execution_count": null,
   "id": "294c4025",
   "metadata": {},
   "outputs": [],
   "source": [
    "len(X_train)"
   ]
  },
  {
   "cell_type": "code",
   "execution_count": null,
   "id": "3a220300",
   "metadata": {},
   "outputs": [],
   "source": [
    "len(X_train[0])"
   ]
  },
  {
   "cell_type": "code",
   "execution_count": null,
   "id": "9352331b",
   "metadata": {},
   "outputs": [],
   "source": []
  },
  {
   "cell_type": "code",
   "execution_count": null,
   "id": "5488d5ae",
   "metadata": {},
   "outputs": [],
   "source": [
    "X_train = pad_trunc(X_train, 64)\n",
    "X_val = pad_trunc(X_val, 64)"
   ]
  },
  {
   "cell_type": "code",
   "execution_count": null,
   "id": "5994b4da",
   "metadata": {},
   "outputs": [],
   "source": [
    "model = Sequential()"
   ]
  },
  {
   "cell_type": "code",
   "execution_count": null,
   "id": "7e663a95",
   "metadata": {},
   "outputs": [],
   "source": [
    "num_nuros = 50\n",
    "model.add(LSTM(num_nuros, return_sequences=True, input_shape=(64, 100)))"
   ]
  },
  {
   "cell_type": "code",
   "execution_count": null,
   "id": "07af70d8",
   "metadata": {},
   "outputs": [],
   "source": [
    "model.add(Dropout(.2))\n",
    "model.add(Flatten())\n",
    "model.add(Dense(18, activation=\"softmax\"))\n",
    "model.compile(loss=\"sparse_categorical_crossentropy\",\n",
    "         optimizer=\"sgd\",\n",
    "         metrics=\"accuracy\")\n",
    "model.summary()"
   ]
  },
  {
   "cell_type": "code",
   "execution_count": null,
   "id": "ee5c1f25",
   "metadata": {},
   "outputs": [],
   "source": [
    "history = model.fit(X_train_embed_matrix, y_train, batch_size=32, epochs=10, validation_data=(X_val_embed_matrix, y_val))"
   ]
  },
  {
   "cell_type": "code",
   "execution_count": null,
   "id": "1a733387",
   "metadata": {},
   "outputs": [],
   "source": [
    "X_val_embed_matrix.shape"
   ]
  },
  {
   "cell_type": "code",
   "execution_count": null,
   "id": "29dfe4dd",
   "metadata": {},
   "outputs": [],
   "source": []
  }
 ],
 "metadata": {
  "kernelspec": {
   "display_name": "Python 3",
   "language": "python",
   "name": "python3"
  },
  "language_info": {
   "codemirror_mode": {
    "name": "ipython",
    "version": 3
   },
   "file_extension": ".py",
   "mimetype": "text/x-python",
   "name": "python",
   "nbconvert_exporter": "python",
   "pygments_lexer": "ipython3",
   "version": "3.6.9"
  }
 },
 "nbformat": 4,
 "nbformat_minor": 5
}
